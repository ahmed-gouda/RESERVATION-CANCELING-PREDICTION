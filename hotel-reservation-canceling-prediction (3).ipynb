{
 "cells": [
  {
   "cell_type": "markdown",
   "id": "f035fd46",
   "metadata": {
    "papermill": {
     "duration": 0.020355,
     "end_time": "2023-11-24T17:04:43.814742",
     "exception": false,
     "start_time": "2023-11-24T17:04:43.794387",
     "status": "completed"
    },
    "tags": []
   },
   "source": [
    "## *INSTALL REQUIRED LIBRARIES*"
   ]
  },
  {
   "cell_type": "code",
   "execution_count": 1,
   "id": "041f0737",
   "metadata": {
    "execution": {
     "iopub.execute_input": "2023-11-24T17:04:43.858160Z",
     "iopub.status.busy": "2023-11-24T17:04:43.857532Z",
     "iopub.status.idle": "2023-11-24T17:06:05.683810Z",
     "shell.execute_reply": "2023-11-24T17:06:05.682175Z"
    },
    "papermill": {
     "duration": 81.852674,
     "end_time": "2023-11-24T17:06:05.686667",
     "exception": false,
     "start_time": "2023-11-24T17:04:43.833993",
     "status": "completed"
    },
    "tags": []
   },
   "outputs": [],
   "source": [
    "# perform quiet  install \n",
    "!pip install -q pycaret >/dev/null 2>&1 # library used for model trainning and evaluation \n",
    "!pip install -q scipy\n"
   ]
  },
  {
   "cell_type": "markdown",
   "id": "1672fc8f",
   "metadata": {
    "papermill": {
     "duration": 0.019043,
     "end_time": "2023-11-24T17:06:05.725410",
     "exception": false,
     "start_time": "2023-11-24T17:06:05.706367",
     "status": "completed"
    },
    "tags": []
   },
   "source": [
    "## *LIBRARIES*"
   ]
  },
  {
   "cell_type": "code",
   "execution_count": 2,
   "id": "11ac0984",
   "metadata": {
    "execution": {
     "iopub.execute_input": "2023-11-24T17:06:05.766525Z",
     "iopub.status.busy": "2023-11-24T17:06:05.766046Z",
     "iopub.status.idle": "2023-11-24T17:06:11.197120Z",
     "shell.execute_reply": "2023-11-24T17:06:11.196228Z"
    },
    "papermill": {
     "duration": 5.455159,
     "end_time": "2023-11-24T17:06:11.199689",
     "exception": false,
     "start_time": "2023-11-24T17:06:05.744530",
     "status": "completed"
    },
    "tags": []
   },
   "outputs": [],
   "source": [
    "import pandas as pd\n",
    "import numpy as np\n",
    "import seaborn as sns\n",
    "import matplotlib.pyplot as plt\n",
    "import scipy.stats\n",
    "import pickle\n",
    "\n",
    "\n",
    "\n",
    "from pycaret.classification import *\n",
    "from sklearn.metrics import classification_report, confusion_matrix\n",
    "from sklearn.preprocessing import RobustScaler\n",
    "from sklearn.model_selection import train_test_split\n",
    "from sklearn.ensemble import RandomForestClassifier\n",
    "\n",
    "\n",
    "sns.set_palette(\"pastel\")"
   ]
  },
  {
   "cell_type": "markdown",
   "id": "bd01abde",
   "metadata": {
    "papermill": {
     "duration": 0.017753,
     "end_time": "2023-11-24T17:06:11.235767",
     "exception": false,
     "start_time": "2023-11-24T17:06:11.218014",
     "status": "completed"
    },
    "tags": []
   },
   "source": [
    "## *DATA READING*"
   ]
  },
  {
   "cell_type": "code",
   "execution_count": 3,
   "id": "bad35af2",
   "metadata": {
    "execution": {
     "iopub.execute_input": "2023-11-24T17:06:11.359488Z",
     "iopub.status.busy": "2023-11-24T17:06:11.358769Z",
     "iopub.status.idle": "2023-11-24T17:06:11.562912Z",
     "shell.execute_reply": "2023-11-24T17:06:11.561657Z"
    },
    "papermill": {
     "duration": 0.310999,
     "end_time": "2023-11-24T17:06:11.565440",
     "exception": false,
     "start_time": "2023-11-24T17:06:11.254441",
     "status": "completed"
    },
    "tags": []
   },
   "outputs": [
    {
     "data": {
      "text/html": [
       "<div>\n",
       "<style scoped>\n",
       "    .dataframe tbody tr th:only-of-type {\n",
       "        vertical-align: middle;\n",
       "    }\n",
       "\n",
       "    .dataframe tbody tr th {\n",
       "        vertical-align: top;\n",
       "    }\n",
       "\n",
       "    .dataframe thead th {\n",
       "        text-align: right;\n",
       "    }\n",
       "</style>\n",
       "<table border=\"1\" class=\"dataframe\">\n",
       "  <thead>\n",
       "    <tr style=\"text-align: right;\">\n",
       "      <th></th>\n",
       "      <th>Booking_ID</th>\n",
       "      <th>number of adults</th>\n",
       "      <th>number of children</th>\n",
       "      <th>number of weekend nights</th>\n",
       "      <th>number of week nights</th>\n",
       "      <th>type of meal</th>\n",
       "      <th>car parking space</th>\n",
       "      <th>room type</th>\n",
       "      <th>lead time</th>\n",
       "      <th>market segment type</th>\n",
       "      <th>repeated</th>\n",
       "      <th>P-C</th>\n",
       "      <th>P-not-C</th>\n",
       "      <th>average price</th>\n",
       "      <th>special requests</th>\n",
       "      <th>date of reservation</th>\n",
       "      <th>booking status</th>\n",
       "    </tr>\n",
       "  </thead>\n",
       "  <tbody>\n",
       "    <tr>\n",
       "      <th>0</th>\n",
       "      <td>INN00001</td>\n",
       "      <td>1</td>\n",
       "      <td>1</td>\n",
       "      <td>2</td>\n",
       "      <td>5</td>\n",
       "      <td>Meal Plan 1</td>\n",
       "      <td>0</td>\n",
       "      <td>Room_Type 1</td>\n",
       "      <td>224</td>\n",
       "      <td>Offline</td>\n",
       "      <td>0</td>\n",
       "      <td>0</td>\n",
       "      <td>0</td>\n",
       "      <td>88.00</td>\n",
       "      <td>0</td>\n",
       "      <td>10/2/2015</td>\n",
       "      <td>Not_Canceled</td>\n",
       "    </tr>\n",
       "    <tr>\n",
       "      <th>1</th>\n",
       "      <td>INN00002</td>\n",
       "      <td>1</td>\n",
       "      <td>0</td>\n",
       "      <td>1</td>\n",
       "      <td>3</td>\n",
       "      <td>Not Selected</td>\n",
       "      <td>0</td>\n",
       "      <td>Room_Type 1</td>\n",
       "      <td>5</td>\n",
       "      <td>Online</td>\n",
       "      <td>0</td>\n",
       "      <td>0</td>\n",
       "      <td>0</td>\n",
       "      <td>106.68</td>\n",
       "      <td>1</td>\n",
       "      <td>11/6/2018</td>\n",
       "      <td>Not_Canceled</td>\n",
       "    </tr>\n",
       "    <tr>\n",
       "      <th>2</th>\n",
       "      <td>INN00003</td>\n",
       "      <td>2</td>\n",
       "      <td>1</td>\n",
       "      <td>1</td>\n",
       "      <td>3</td>\n",
       "      <td>Meal Plan 1</td>\n",
       "      <td>0</td>\n",
       "      <td>Room_Type 1</td>\n",
       "      <td>1</td>\n",
       "      <td>Online</td>\n",
       "      <td>0</td>\n",
       "      <td>0</td>\n",
       "      <td>0</td>\n",
       "      <td>50.00</td>\n",
       "      <td>0</td>\n",
       "      <td>2/28/2018</td>\n",
       "      <td>Canceled</td>\n",
       "    </tr>\n",
       "    <tr>\n",
       "      <th>3</th>\n",
       "      <td>INN00004</td>\n",
       "      <td>1</td>\n",
       "      <td>0</td>\n",
       "      <td>0</td>\n",
       "      <td>2</td>\n",
       "      <td>Meal Plan 1</td>\n",
       "      <td>0</td>\n",
       "      <td>Room_Type 1</td>\n",
       "      <td>211</td>\n",
       "      <td>Online</td>\n",
       "      <td>0</td>\n",
       "      <td>0</td>\n",
       "      <td>0</td>\n",
       "      <td>100.00</td>\n",
       "      <td>1</td>\n",
       "      <td>5/20/2017</td>\n",
       "      <td>Canceled</td>\n",
       "    </tr>\n",
       "    <tr>\n",
       "      <th>4</th>\n",
       "      <td>INN00005</td>\n",
       "      <td>1</td>\n",
       "      <td>0</td>\n",
       "      <td>1</td>\n",
       "      <td>2</td>\n",
       "      <td>Not Selected</td>\n",
       "      <td>0</td>\n",
       "      <td>Room_Type 1</td>\n",
       "      <td>48</td>\n",
       "      <td>Online</td>\n",
       "      <td>0</td>\n",
       "      <td>0</td>\n",
       "      <td>0</td>\n",
       "      <td>77.00</td>\n",
       "      <td>0</td>\n",
       "      <td>4/11/2018</td>\n",
       "      <td>Canceled</td>\n",
       "    </tr>\n",
       "  </tbody>\n",
       "</table>\n",
       "</div>"
      ],
      "text/plain": [
       "  Booking_ID  number of adults  number of children  number of weekend nights  \\\n",
       "0   INN00001                 1                   1                         2   \n",
       "1   INN00002                 1                   0                         1   \n",
       "2   INN00003                 2                   1                         1   \n",
       "3   INN00004                 1                   0                         0   \n",
       "4   INN00005                 1                   0                         1   \n",
       "\n",
       "   number of week nights  type of meal  car parking space    room type  \\\n",
       "0                      5   Meal Plan 1                  0  Room_Type 1   \n",
       "1                      3  Not Selected                  0  Room_Type 1   \n",
       "2                      3   Meal Plan 1                  0  Room_Type 1   \n",
       "3                      2   Meal Plan 1                  0  Room_Type 1   \n",
       "4                      2  Not Selected                  0  Room_Type 1   \n",
       "\n",
       "   lead time market segment type  repeated  P-C  P-not-C  average price   \\\n",
       "0        224             Offline         0    0        0           88.00   \n",
       "1          5              Online         0    0        0          106.68   \n",
       "2          1              Online         0    0        0           50.00   \n",
       "3        211              Online         0    0        0          100.00   \n",
       "4         48              Online         0    0        0           77.00   \n",
       "\n",
       "   special requests date of reservation booking status  \n",
       "0                 0           10/2/2015   Not_Canceled  \n",
       "1                 1           11/6/2018   Not_Canceled  \n",
       "2                 0           2/28/2018       Canceled  \n",
       "3                 1           5/20/2017       Canceled  \n",
       "4                 0           4/11/2018       Canceled  "
      ]
     },
     "execution_count": 3,
     "metadata": {},
     "output_type": "execute_result"
    }
   ],
   "source": [
    "original_df=pd.read_csv('/kaggle/input/hotel-reservation/Hotel  Dataset.csv')\n",
    "df=original_df.copy()\n",
    "df.head()"
   ]
  },
  {
   "cell_type": "markdown",
   "id": "f8a34f05",
   "metadata": {
    "papermill": {
     "duration": 0.018342,
     "end_time": "2023-11-24T17:06:11.602832",
     "exception": false,
     "start_time": "2023-11-24T17:06:11.584490",
     "status": "completed"
    },
    "tags": []
   },
   "source": [
    "## *DATA DESCRIPTION*\n",
    "* **Booking_ID** :unique identifier of each booking . <br>\n",
    "* **number of adults** : Number of adults . <br>\n",
    "* **number of children** : Number of Children . <br>\n",
    "* **number of weekend nights** : Number of weekend nights (Saturday or Sunday) the guest stayed or booked to stay at the hotel .<br>\n",
    "* **number of week nights** : Number of week nights (Monday to Friday) the guest stayed or booked to stay at the hotel . <br>\n",
    "* **type of meal** : Type of meal plan booked by the customer. <br>\n",
    "* **car_parking_space** : Does the customer require a car parking space? (0 - No, 1- Yes). <br>\n",
    "* **room_type** : Type of room reserved by the customer. The values are ciphered (encoded) by INN Hotels.<br>\n",
    "* **lead_time** : Number of days between the date of booking and the arrival date . <br>\n",
    "* **market segment type** : Where the booking came from . <br>\n",
    "* **repeated** : Is the customer a repeated guest? (0 - No, 1- Yes) .<br>\n",
    "* **P-C** : Number of previous bookings that were canceled by the customer prior to the current booking .<br>\n",
    "* **P-not-C** : Number of previous bookings not canceled by the customer prior to the current booking .<br>\n",
    "* **average price** : Average price per day of the reservation; prices of the rooms are dynamic. (in euros) .<br>\n",
    "* **special requests** : Total number of special requests made by the customer (e.g. high floor, view from the room, etc) .<br>\n",
    "* **date of reservation** : Date of the month\n",
    "* **booking status** : Flag indicating if the booking was canceled or not.<br>\n",
    "\n",
    "========================================================================================\n",
    "\n",
    "* **continuous features [lead_time,average Price]** \n",
    "* **other features are discrete**"
   ]
  },
  {
   "cell_type": "markdown",
   "id": "06d583a6",
   "metadata": {
    "papermill": {
     "duration": 0.018426,
     "end_time": "2023-11-24T17:06:11.639861",
     "exception": false,
     "start_time": "2023-11-24T17:06:11.621435",
     "status": "completed"
    },
    "tags": []
   },
   "source": [
    "## *DATA PREPOSSESING & EDA*\n",
    "* **MAKE SURE WE HAVE THE PROPER DATA TYPE**"
   ]
  },
  {
   "cell_type": "code",
   "execution_count": 4,
   "id": "1b61db86",
   "metadata": {
    "execution": {
     "iopub.execute_input": "2023-11-24T17:06:11.679116Z",
     "iopub.status.busy": "2023-11-24T17:06:11.678677Z",
     "iopub.status.idle": "2023-11-24T17:06:11.726817Z",
     "shell.execute_reply": "2023-11-24T17:06:11.725432Z"
    },
    "papermill": {
     "duration": 0.070978,
     "end_time": "2023-11-24T17:06:11.729310",
     "exception": false,
     "start_time": "2023-11-24T17:06:11.658332",
     "status": "completed"
    },
    "tags": []
   },
   "outputs": [
    {
     "name": "stdout",
     "output_type": "stream",
     "text": [
      "<class 'pandas.core.frame.DataFrame'>\n",
      "RangeIndex: 36285 entries, 0 to 36284\n",
      "Data columns (total 17 columns):\n",
      " #   Column                    Non-Null Count  Dtype  \n",
      "---  ------                    --------------  -----  \n",
      " 0   Booking_ID                36285 non-null  object \n",
      " 1   number of adults          36285 non-null  int64  \n",
      " 2   number of children        36285 non-null  int64  \n",
      " 3   number of weekend nights  36285 non-null  int64  \n",
      " 4   number of week nights     36285 non-null  int64  \n",
      " 5   type of meal              36285 non-null  object \n",
      " 6   car parking space         36285 non-null  int64  \n",
      " 7   room type                 36285 non-null  object \n",
      " 8   lead time                 36285 non-null  int64  \n",
      " 9   market segment type       36285 non-null  object \n",
      " 10  repeated                  36285 non-null  int64  \n",
      " 11  P-C                       36285 non-null  int64  \n",
      " 12  P-not-C                   36285 non-null  int64  \n",
      " 13  average price             36285 non-null  float64\n",
      " 14  special requests          36285 non-null  int64  \n",
      " 15  date of reservation       36285 non-null  object \n",
      " 16  booking status            36285 non-null  object \n",
      "dtypes: float64(1), int64(10), object(6)\n",
      "memory usage: 4.7+ MB\n"
     ]
    }
   ],
   "source": [
    "df.info()"
   ]
  },
  {
   "cell_type": "markdown",
   "id": "63292866",
   "metadata": {
    "papermill": {
     "duration": 0.01885,
     "end_time": "2023-11-24T17:06:11.767266",
     "exception": false,
     "start_time": "2023-11-24T17:06:11.748416",
     "status": "completed"
    },
    "tags": []
   },
   "source": [
    "* **NOTE <br>'date of reservation' data type is object we need to change it**<br>\n"
   ]
  },
  {
   "cell_type": "markdown",
   "id": "e1e03122",
   "metadata": {
    "papermill": {
     "duration": 0.018848,
     "end_time": "2023-11-24T17:06:11.805297",
     "exception": false,
     "start_time": "2023-11-24T17:06:11.786449",
     "status": "completed"
    },
    "tags": []
   },
   "source": [
    "### *SUMMARY STATISTICS*"
   ]
  },
  {
   "cell_type": "code",
   "execution_count": 5,
   "id": "7722fe2d",
   "metadata": {
    "execution": {
     "iopub.execute_input": "2023-11-24T17:06:11.846690Z",
     "iopub.status.busy": "2023-11-24T17:06:11.845517Z",
     "iopub.status.idle": "2023-11-24T17:06:11.972536Z",
     "shell.execute_reply": "2023-11-24T17:06:11.971346Z"
    },
    "papermill": {
     "duration": 0.150694,
     "end_time": "2023-11-24T17:06:11.975159",
     "exception": false,
     "start_time": "2023-11-24T17:06:11.824465",
     "status": "completed"
    },
    "tags": []
   },
   "outputs": [
    {
     "data": {
      "text/html": [
       "<div>\n",
       "<style scoped>\n",
       "    .dataframe tbody tr th:only-of-type {\n",
       "        vertical-align: middle;\n",
       "    }\n",
       "\n",
       "    .dataframe tbody tr th {\n",
       "        vertical-align: top;\n",
       "    }\n",
       "\n",
       "    .dataframe thead th {\n",
       "        text-align: right;\n",
       "    }\n",
       "</style>\n",
       "<table border=\"1\" class=\"dataframe\">\n",
       "  <thead>\n",
       "    <tr style=\"text-align: right;\">\n",
       "      <th></th>\n",
       "      <th>count</th>\n",
       "      <th>mean</th>\n",
       "      <th>std</th>\n",
       "      <th>min</th>\n",
       "      <th>25%</th>\n",
       "      <th>50%</th>\n",
       "      <th>75%</th>\n",
       "      <th>max</th>\n",
       "      <th>nunique</th>\n",
       "      <th>NULLS</th>\n",
       "    </tr>\n",
       "  </thead>\n",
       "  <tbody>\n",
       "    <tr>\n",
       "      <th>number of adults</th>\n",
       "      <td>36285.0</td>\n",
       "      <td>1.844839</td>\n",
       "      <td>0.518813</td>\n",
       "      <td>0.0</td>\n",
       "      <td>2.0</td>\n",
       "      <td>2.00</td>\n",
       "      <td>2.0</td>\n",
       "      <td>4.0</td>\n",
       "      <td>5</td>\n",
       "      <td>0</td>\n",
       "    </tr>\n",
       "    <tr>\n",
       "      <th>number of children</th>\n",
       "      <td>36285.0</td>\n",
       "      <td>0.105360</td>\n",
       "      <td>0.402704</td>\n",
       "      <td>0.0</td>\n",
       "      <td>0.0</td>\n",
       "      <td>0.00</td>\n",
       "      <td>0.0</td>\n",
       "      <td>10.0</td>\n",
       "      <td>6</td>\n",
       "      <td>0</td>\n",
       "    </tr>\n",
       "    <tr>\n",
       "      <th>number of weekend nights</th>\n",
       "      <td>36285.0</td>\n",
       "      <td>0.810693</td>\n",
       "      <td>0.870590</td>\n",
       "      <td>0.0</td>\n",
       "      <td>0.0</td>\n",
       "      <td>1.00</td>\n",
       "      <td>2.0</td>\n",
       "      <td>7.0</td>\n",
       "      <td>8</td>\n",
       "      <td>0</td>\n",
       "    </tr>\n",
       "    <tr>\n",
       "      <th>number of week nights</th>\n",
       "      <td>36285.0</td>\n",
       "      <td>2.204602</td>\n",
       "      <td>1.410946</td>\n",
       "      <td>0.0</td>\n",
       "      <td>1.0</td>\n",
       "      <td>2.00</td>\n",
       "      <td>3.0</td>\n",
       "      <td>17.0</td>\n",
       "      <td>18</td>\n",
       "      <td>0</td>\n",
       "    </tr>\n",
       "    <tr>\n",
       "      <th>car parking space</th>\n",
       "      <td>36285.0</td>\n",
       "      <td>0.030977</td>\n",
       "      <td>0.173258</td>\n",
       "      <td>0.0</td>\n",
       "      <td>0.0</td>\n",
       "      <td>0.00</td>\n",
       "      <td>0.0</td>\n",
       "      <td>1.0</td>\n",
       "      <td>2</td>\n",
       "      <td>0</td>\n",
       "    </tr>\n",
       "    <tr>\n",
       "      <th>lead time</th>\n",
       "      <td>36285.0</td>\n",
       "      <td>85.239851</td>\n",
       "      <td>85.938796</td>\n",
       "      <td>0.0</td>\n",
       "      <td>17.0</td>\n",
       "      <td>57.00</td>\n",
       "      <td>126.0</td>\n",
       "      <td>443.0</td>\n",
       "      <td>352</td>\n",
       "      <td>0</td>\n",
       "    </tr>\n",
       "    <tr>\n",
       "      <th>repeated</th>\n",
       "      <td>36285.0</td>\n",
       "      <td>0.025630</td>\n",
       "      <td>0.158032</td>\n",
       "      <td>0.0</td>\n",
       "      <td>0.0</td>\n",
       "      <td>0.00</td>\n",
       "      <td>0.0</td>\n",
       "      <td>1.0</td>\n",
       "      <td>2</td>\n",
       "      <td>0</td>\n",
       "    </tr>\n",
       "    <tr>\n",
       "      <th>P-C</th>\n",
       "      <td>36285.0</td>\n",
       "      <td>0.023343</td>\n",
       "      <td>0.368281</td>\n",
       "      <td>0.0</td>\n",
       "      <td>0.0</td>\n",
       "      <td>0.00</td>\n",
       "      <td>0.0</td>\n",
       "      <td>13.0</td>\n",
       "      <td>9</td>\n",
       "      <td>0</td>\n",
       "    </tr>\n",
       "    <tr>\n",
       "      <th>P-not-C</th>\n",
       "      <td>36285.0</td>\n",
       "      <td>0.153369</td>\n",
       "      <td>1.753931</td>\n",
       "      <td>0.0</td>\n",
       "      <td>0.0</td>\n",
       "      <td>0.00</td>\n",
       "      <td>0.0</td>\n",
       "      <td>58.0</td>\n",
       "      <td>59</td>\n",
       "      <td>0</td>\n",
       "    </tr>\n",
       "    <tr>\n",
       "      <th>average price</th>\n",
       "      <td>36285.0</td>\n",
       "      <td>103.421636</td>\n",
       "      <td>35.086469</td>\n",
       "      <td>0.0</td>\n",
       "      <td>80.3</td>\n",
       "      <td>99.45</td>\n",
       "      <td>120.0</td>\n",
       "      <td>540.0</td>\n",
       "      <td>3930</td>\n",
       "      <td>0</td>\n",
       "    </tr>\n",
       "    <tr>\n",
       "      <th>special requests</th>\n",
       "      <td>36285.0</td>\n",
       "      <td>0.619733</td>\n",
       "      <td>0.786262</td>\n",
       "      <td>0.0</td>\n",
       "      <td>0.0</td>\n",
       "      <td>0.00</td>\n",
       "      <td>1.0</td>\n",
       "      <td>5.0</td>\n",
       "      <td>6</td>\n",
       "      <td>0</td>\n",
       "    </tr>\n",
       "  </tbody>\n",
       "</table>\n",
       "</div>"
      ],
      "text/plain": [
       "                            count        mean        std  min   25%    50%  \\\n",
       "number of adults          36285.0    1.844839   0.518813  0.0   2.0   2.00   \n",
       "number of children        36285.0    0.105360   0.402704  0.0   0.0   0.00   \n",
       "number of weekend nights  36285.0    0.810693   0.870590  0.0   0.0   1.00   \n",
       "number of week nights     36285.0    2.204602   1.410946  0.0   1.0   2.00   \n",
       "car parking space         36285.0    0.030977   0.173258  0.0   0.0   0.00   \n",
       "lead time                 36285.0   85.239851  85.938796  0.0  17.0  57.00   \n",
       "repeated                  36285.0    0.025630   0.158032  0.0   0.0   0.00   \n",
       "P-C                       36285.0    0.023343   0.368281  0.0   0.0   0.00   \n",
       "P-not-C                   36285.0    0.153369   1.753931  0.0   0.0   0.00   \n",
       "average price             36285.0  103.421636  35.086469  0.0  80.3  99.45   \n",
       "special requests          36285.0    0.619733   0.786262  0.0   0.0   0.00   \n",
       "\n",
       "                            75%    max  nunique  NULLS  \n",
       "number of adults            2.0    4.0        5      0  \n",
       "number of children          0.0   10.0        6      0  \n",
       "number of weekend nights    2.0    7.0        8      0  \n",
       "number of week nights       3.0   17.0       18      0  \n",
       "car parking space           0.0    1.0        2      0  \n",
       "lead time                 126.0  443.0      352      0  \n",
       "repeated                    0.0    1.0        2      0  \n",
       "P-C                         0.0   13.0        9      0  \n",
       "P-not-C                     0.0   58.0       59      0  \n",
       "average price             120.0  540.0     3930      0  \n",
       "special requests            1.0    5.0        6      0  "
      ]
     },
     "execution_count": 5,
     "metadata": {},
     "output_type": "execute_result"
    }
   ],
   "source": [
    "describe=df.describe().T\n",
    "describe['nunique']=df.nunique()\n",
    "describe['NULLS']=df.isna().sum()\n",
    "describe"
   ]
  },
  {
   "cell_type": "markdown",
   "id": "f7c1b324",
   "metadata": {
    "papermill": {
     "duration": 0.018953,
     "end_time": "2023-11-24T17:06:12.013568",
     "exception": false,
     "start_time": "2023-11-24T17:06:11.994615",
     "status": "completed"
    },
    "tags": []
   },
   "source": [
    "### *MISSING DATA*"
   ]
  },
  {
   "cell_type": "code",
   "execution_count": 6,
   "id": "1f43fadc",
   "metadata": {
    "execution": {
     "iopub.execute_input": "2023-11-24T17:06:12.056243Z",
     "iopub.status.busy": "2023-11-24T17:06:12.055811Z",
     "iopub.status.idle": "2023-11-24T17:06:12.098862Z",
     "shell.execute_reply": "2023-11-24T17:06:12.097677Z"
    },
    "papermill": {
     "duration": 0.067908,
     "end_time": "2023-11-24T17:06:12.101309",
     "exception": false,
     "start_time": "2023-11-24T17:06:12.033401",
     "status": "completed"
    },
    "tags": []
   },
   "outputs": [
    {
     "data": {
      "text/plain": [
       "0"
      ]
     },
     "execution_count": 6,
     "metadata": {},
     "output_type": "execute_result"
    }
   ],
   "source": [
    "df.isna().sum().sum()"
   ]
  },
  {
   "cell_type": "markdown",
   "id": "f7350d92",
   "metadata": {
    "papermill": {
     "duration": 0.019357,
     "end_time": "2023-11-24T17:06:12.140242",
     "exception": false,
     "start_time": "2023-11-24T17:06:12.120885",
     "status": "completed"
    },
    "tags": []
   },
   "source": [
    "### *DROP HIGH CARDINALITY FEATURES*"
   ]
  },
  {
   "cell_type": "code",
   "execution_count": 7,
   "id": "1052f0d3",
   "metadata": {
    "execution": {
     "iopub.execute_input": "2023-11-24T17:06:12.181263Z",
     "iopub.status.busy": "2023-11-24T17:06:12.180803Z",
     "iopub.status.idle": "2023-11-24T17:06:12.189892Z",
     "shell.execute_reply": "2023-11-24T17:06:12.188970Z"
    },
    "papermill": {
     "duration": 0.032548,
     "end_time": "2023-11-24T17:06:12.192223",
     "exception": false,
     "start_time": "2023-11-24T17:06:12.159675",
     "status": "completed"
    },
    "tags": []
   },
   "outputs": [],
   "source": [
    "df.drop('Booking_ID',axis=1,inplace=True)"
   ]
  },
  {
   "cell_type": "markdown",
   "id": "0014c939",
   "metadata": {
    "papermill": {
     "duration": 0.019202,
     "end_time": "2023-11-24T17:06:12.230996",
     "exception": false,
     "start_time": "2023-11-24T17:06:12.211794",
     "status": "completed"
    },
    "tags": []
   },
   "source": [
    "###  *DATE COLUMN HANDLING*"
   ]
  },
  {
   "cell_type": "code",
   "execution_count": 8,
   "id": "8cd2c239",
   "metadata": {
    "execution": {
     "iopub.execute_input": "2023-11-24T17:06:12.271720Z",
     "iopub.status.busy": "2023-11-24T17:06:12.271232Z",
     "iopub.status.idle": "2023-11-24T17:06:12.858940Z",
     "shell.execute_reply": "2023-11-24T17:06:12.857584Z"
    },
    "papermill": {
     "duration": 0.611303,
     "end_time": "2023-11-24T17:06:12.861752",
     "exception": false,
     "start_time": "2023-11-24T17:06:12.250449",
     "status": "completed"
    },
    "tags": []
   },
   "outputs": [],
   "source": [
    "#there is natural outliers In the date column \n",
    "#we notice that we have “2-29-2018” but in 2018 there is no 2/29\n",
    "df['date of reservation'] = df['date of reservation'].replace('2018-2-29','3/1/2018')\n",
    "# split the date col\n",
    "df['month']=(df['date of reservation'].str.split('/',expand=True)[0]).astype(int)\n",
    "df['day']=df['date of reservation'].str.split('/',expand=True)[1].astype(int)\n",
    "df['year']=df['date of reservation'].str.split('/',expand=True)[2].astype(int)\n",
    "\n",
    "# drop old date col\n",
    "df.drop('date of reservation',axis=1,inplace=True)"
   ]
  },
  {
   "cell_type": "code",
   "execution_count": 9,
   "id": "26ff0e4c",
   "metadata": {
    "execution": {
     "iopub.execute_input": "2023-11-24T17:06:12.906108Z",
     "iopub.status.busy": "2023-11-24T17:06:12.905675Z",
     "iopub.status.idle": "2023-11-24T17:06:12.911399Z",
     "shell.execute_reply": "2023-11-24T17:06:12.910220Z"
    },
    "papermill": {
     "duration": 0.029962,
     "end_time": "2023-11-24T17:06:12.913955",
     "exception": false,
     "start_time": "2023-11-24T17:06:12.883993",
     "status": "completed"
    },
    "tags": []
   },
   "outputs": [],
   "source": [
    "continuous_cols=['lead time','average price ']\n",
    "\n",
    "discrete_cols=['number of adults', 'number of children', 'number of weekend nights',\n",
    "       'number of week nights', 'type of meal', 'car parking space',\n",
    "       'room type',  'market segment type', 'repeated', 'P-C','month','year','P-not-C',\n",
    "        'special requests']"
   ]
  },
  {
   "cell_type": "markdown",
   "id": "f8f822e6",
   "metadata": {
    "papermill": {
     "duration": 0.020345,
     "end_time": "2023-11-24T17:06:12.955304",
     "exception": false,
     "start_time": "2023-11-24T17:06:12.934959",
     "status": "completed"
    },
    "tags": []
   },
   "source": [
    "## *VISUALIZING AND HANDLING DATA FOR EACH FEATURE*"
   ]
  },
  {
   "cell_type": "markdown",
   "id": "d55179c3",
   "metadata": {
    "execution": {
     "iopub.execute_input": "2023-11-16T16:27:55.624147Z",
     "iopub.status.busy": "2023-11-16T16:27:55.623764Z",
     "iopub.status.idle": "2023-11-16T16:27:55.628862Z",
     "shell.execute_reply": "2023-11-16T16:27:55.627690Z",
     "shell.execute_reply.started": "2023-11-16T16:27:55.624117Z"
    },
    "papermill": {
     "duration": 0.019105,
     "end_time": "2023-11-24T17:06:12.994197",
     "exception": false,
     "start_time": "2023-11-24T17:06:12.975092",
     "status": "completed"
    },
    "tags": []
   },
   "source": [
    "#### *CONTINUOUS FEATURES*\n",
    "#### *VISUALIZING  LEAD TIME*\n"
   ]
  },
  {
   "cell_type": "code",
   "execution_count": 10,
   "id": "1852dd4c",
   "metadata": {
    "execution": {
     "iopub.execute_input": "2023-11-24T17:06:13.035417Z",
     "iopub.status.busy": "2023-11-24T17:06:13.034967Z",
     "iopub.status.idle": "2023-11-24T17:06:13.313221Z",
     "shell.execute_reply": "2023-11-24T17:06:13.312018Z"
    },
    "papermill": {
     "duration": 0.302012,
     "end_time": "2023-11-24T17:06:13.315757",
     "exception": false,
     "start_time": "2023-11-24T17:06:13.013745",
     "status": "completed"
    },
    "tags": []
   },
   "outputs": [
    {
     "data": {
      "text/plain": [
       "Text(0.5, 1.0, 'BOXPLOT FOR lead time')"
      ]
     },
     "execution_count": 10,
     "metadata": {},
     "output_type": "execute_result"
    },
    {
     "data": {
      "image/png": "[encoded data removed]",
      "text/plain": [
       "<Figure size 800x550 with 1 Axes>"
      ]
     },
     "metadata": {},
     "output_type": "display_data"
    }
   ],
   "source": [
    "col=continuous_cols[0]\n",
    "sns.boxplot(y=df[col])\n",
    "plt.title(f'BOXPLOT FOR {col}')"
   ]
  },
  {
   "cell_type": "markdown",
   "id": "3b24c5ef",
   "metadata": {
    "papermill": {
     "duration": 0.019991,
     "end_time": "2023-11-24T17:06:13.355991",
     "exception": false,
     "start_time": "2023-11-24T17:06:13.336000",
     "status": "completed"
    },
    "tags": []
   },
   "source": [
    "#### *DROP OUTLIERS*"
   ]
  },
  {
   "cell_type": "code",
   "execution_count": 11,
   "id": "5f7700fe",
   "metadata": {
    "execution": {
     "iopub.execute_input": "2023-11-24T17:06:13.399457Z",
     "iopub.status.busy": "2023-11-24T17:06:13.399030Z",
     "iopub.status.idle": "2023-11-24T17:06:13.423994Z",
     "shell.execute_reply": "2023-11-24T17:06:13.422769Z"
    },
    "papermill": {
     "duration": 0.049822,
     "end_time": "2023-11-24T17:06:13.426899",
     "exception": false,
     "start_time": "2023-11-24T17:06:13.377077",
     "status": "completed"
    },
    "tags": []
   },
   "outputs": [],
   "source": [
    "Q1 = df[col].quantile(0.25)\n",
    "Q3 = df[col].quantile(0.75)\n",
    "IQR = Q3 - Q1\n",
    "outliers = (df[col] < Q1 - 1.5 * IQR) | (df[col] > Q3 + 1.5 * IQR)\n",
    "df = df[~outliers]"
   ]
  },
  {
   "cell_type": "markdown",
   "id": "6777a05e",
   "metadata": {
    "execution": {
     "iopub.execute_input": "2023-11-16T16:33:52.793199Z",
     "iopub.status.busy": "2023-11-16T16:33:52.792838Z",
     "iopub.status.idle": "2023-11-16T16:33:52.804970Z",
     "shell.execute_reply": "2023-11-16T16:33:52.803927Z",
     "shell.execute_reply.started": "2023-11-16T16:33:52.793170Z"
    },
    "papermill": {
     "duration": 0.019934,
     "end_time": "2023-11-24T17:06:13.466794",
     "exception": false,
     "start_time": "2023-11-24T17:06:13.446860",
     "status": "completed"
    },
    "tags": []
   },
   "source": [
    "#### *VISUALIZING  AVERAGE PRICE*"
   ]
  },
  {
   "cell_type": "code",
   "execution_count": 12,
   "id": "aeb1721b",
   "metadata": {
    "execution": {
     "iopub.execute_input": "2023-11-24T17:06:13.509703Z",
     "iopub.status.busy": "2023-11-24T17:06:13.509221Z",
     "iopub.status.idle": "2023-11-24T17:06:13.766953Z",
     "shell.execute_reply": "2023-11-24T17:06:13.765700Z"
    },
    "papermill": {
     "duration": 0.283276,
     "end_time": "2023-11-24T17:06:13.769761",
     "exception": false,
     "start_time": "2023-11-24T17:06:13.486485",
     "status": "completed"
    },
    "tags": []
   },
   "outputs": [
    {
     "data": {
      "text/plain": [
       "Text(0.5, 1.0, 'BOXPLOT FOR average price ')"
      ]
     },
     "execution_count": 12,
     "metadata": {},
     "output_type": "execute_result"
    },
    {
     "data": {
      "image/png": "[encoded data removed]",
      "text/plain": [
       "<Figure size 800x550 with 1 Axes>"
      ]
     },
     "metadata": {},
     "output_type": "display_data"
    }
   ],
   "source": [
    "col=continuous_cols[1]\n",
    "sns.boxplot(y=df[col])\n",
    "plt.title(f'BOXPLOT FOR {col}')"
   ]
  },
  {
   "cell_type": "markdown",
   "id": "d994947b",
   "metadata": {
    "papermill": {
     "duration": 0.020924,
     "end_time": "2023-11-24T17:06:13.812916",
     "exception": false,
     "start_time": "2023-11-24T17:06:13.791992",
     "status": "completed"
    },
    "tags": []
   },
   "source": [
    "#### *DROP OUTLIERS*"
   ]
  },
  {
   "cell_type": "code",
   "execution_count": 13,
   "id": "192a94a9",
   "metadata": {
    "execution": {
     "iopub.execute_input": "2023-11-24T17:06:13.858909Z",
     "iopub.status.busy": "2023-11-24T17:06:13.858097Z",
     "iopub.status.idle": "2023-11-24T17:06:13.875118Z",
     "shell.execute_reply": "2023-11-24T17:06:13.874052Z"
    },
    "papermill": {
     "duration": 0.041852,
     "end_time": "2023-11-24T17:06:13.877647",
     "exception": false,
     "start_time": "2023-11-24T17:06:13.835795",
     "status": "completed"
    },
    "tags": []
   },
   "outputs": [],
   "source": [
    "Q1 = df[col].quantile(0.25)\n",
    "Q3 = df[col].quantile(0.75)\n",
    "IQR = Q3 - Q1\n",
    "outliers = (df[col] < Q1 - 1.5 * IQR) | (df[col] > Q3 + 1.5 * IQR)\n",
    "df = df[~outliers]\n"
   ]
  },
  {
   "cell_type": "markdown",
   "id": "2c171957",
   "metadata": {
    "papermill": {
     "duration": 0.020915,
     "end_time": "2023-11-24T17:06:13.920296",
     "exception": false,
     "start_time": "2023-11-24T17:06:13.899381",
     "status": "completed"
    },
    "tags": []
   },
   "source": [
    "#### *DISCRETE FEATURES*"
   ]
  },
  {
   "cell_type": "markdown",
   "id": "69bfafd5",
   "metadata": {
    "papermill": {
     "duration": 0.020662,
     "end_time": "2023-11-24T17:06:13.961977",
     "exception": false,
     "start_time": "2023-11-24T17:06:13.941315",
     "status": "completed"
    },
    "tags": []
   },
   "source": [
    "#### *VISUALIZING  NUMBER OF ADULTS*"
   ]
  },
  {
   "cell_type": "code",
   "execution_count": 14,
   "id": "296c6b73",
   "metadata": {
    "execution": {
     "iopub.execute_input": "2023-11-24T17:06:14.005829Z",
     "iopub.status.busy": "2023-11-24T17:06:14.005353Z",
     "iopub.status.idle": "2023-11-24T17:06:14.277198Z",
     "shell.execute_reply": "2023-11-24T17:06:14.276247Z"
    },
    "papermill": {
     "duration": 0.296547,
     "end_time": "2023-11-24T17:06:14.279472",
     "exception": false,
     "start_time": "2023-11-24T17:06:13.982925",
     "status": "completed"
    },
    "tags": []
   },
   "outputs": [
    {
     "data": {
      "image/png": "[encoded data removed]",
      "text/plain": [
       "<Figure size 800x550 with 1 Axes>"
      ]
     },
     "metadata": {},
     "output_type": "display_data"
    }
   ],
   "source": [
    "col = discrete_cols[0]\n",
    "\n",
    "\n",
    "sns.countplot(x=df[col])\n",
    "\n",
    "\n",
    "for p in plt.gca().patches:\n",
    "    plt.gca().annotate(f'{int(p.get_height())}', (p.get_x() + p.get_width() / 2., p.get_height()),\n",
    "                       ha='center', va='center', xytext=(0, 10), textcoords='offset points', fontsize=10)\n",
    "\n",
    "plt.title(f'Count Plot for {col}')\n",
    "plt.show()"
   ]
  },
  {
   "cell_type": "markdown",
   "id": "db5c8979",
   "metadata": {
    "papermill": {
     "duration": 0.02077,
     "end_time": "2023-11-24T17:06:14.321293",
     "exception": false,
     "start_time": "2023-11-24T17:06:14.300523",
     "status": "completed"
    },
    "tags": []
   },
   "source": [
    "\n",
    "#### COMBINE INFREQUENT OR UNEXPECTED VALUES"
   ]
  },
  {
   "cell_type": "code",
   "execution_count": 15,
   "id": "70bd2021",
   "metadata": {
    "execution": {
     "iopub.execute_input": "2023-11-24T17:06:14.366132Z",
     "iopub.status.busy": "2023-11-24T17:06:14.365408Z",
     "iopub.status.idle": "2023-11-24T17:06:14.381348Z",
     "shell.execute_reply": "2023-11-24T17:06:14.379970Z"
    },
    "papermill": {
     "duration": 0.041812,
     "end_time": "2023-11-24T17:06:14.384339",
     "exception": false,
     "start_time": "2023-11-24T17:06:14.342527",
     "status": "completed"
    },
    "tags": []
   },
   "outputs": [],
   "source": [
    "replace_dict={0:'other',1:'1',2:'2',3:'3',4:'other',5:'other',6:'other'}\n",
    "df[col] = df[col].replace(replace_dict)"
   ]
  },
  {
   "cell_type": "markdown",
   "id": "376a8b77",
   "metadata": {
    "papermill": {
     "duration": 0.020858,
     "end_time": "2023-11-24T17:06:14.426280",
     "exception": false,
     "start_time": "2023-11-24T17:06:14.405422",
     "status": "completed"
    },
    "tags": []
   },
   "source": [
    "#### *VISUALIZING  NUMBER OF CHILDREN*"
   ]
  },
  {
   "cell_type": "code",
   "execution_count": 16,
   "id": "e308aca3",
   "metadata": {
    "execution": {
     "iopub.execute_input": "2023-11-24T17:06:14.471238Z",
     "iopub.status.busy": "2023-11-24T17:06:14.470106Z",
     "iopub.status.idle": "2023-11-24T17:06:14.772128Z",
     "shell.execute_reply": "2023-11-24T17:06:14.771081Z"
    },
    "papermill": {
     "duration": 0.327717,
     "end_time": "2023-11-24T17:06:14.775141",
     "exception": false,
     "start_time": "2023-11-24T17:06:14.447424",
     "status": "completed"
    },
    "tags": []
   },
   "outputs": [
    {
     "data": {
      "image/png": "[encoded data removed]",
      "text/plain": [
       "<Figure size 800x550 with 1 Axes>"
      ]
     },
     "metadata": {},
     "output_type": "display_data"
    }
   ],
   "source": [
    "col = discrete_cols[1]\n",
    "\n",
    "sns.countplot(x=df[col])\n",
    "\n",
    "for p in plt.gca().patches:\n",
    "    plt.gca().annotate(f'{int(p.get_height())}', (p.get_x() + p.get_width() / 2., p.get_height()),\n",
    "                       ha='center', va='center', xytext=(0, 10), textcoords='offset points', fontsize=10)\n",
    "\n",
    "plt.title(f'Count Plot for {col}')\n",
    "plt.show()"
   ]
  },
  {
   "cell_type": "markdown",
   "id": "6eeab9e7",
   "metadata": {
    "papermill": {
     "duration": 0.021629,
     "end_time": "2023-11-24T17:06:14.820163",
     "exception": false,
     "start_time": "2023-11-24T17:06:14.798534",
     "status": "completed"
    },
    "tags": []
   },
   "source": [
    "#### COMBINE INFREQUENT OR UNEXPECTED VALUES"
   ]
  },
  {
   "cell_type": "code",
   "execution_count": 17,
   "id": "a9c5251b",
   "metadata": {
    "execution": {
     "iopub.execute_input": "2023-11-24T17:06:14.866737Z",
     "iopub.status.busy": "2023-11-24T17:06:14.866277Z",
     "iopub.status.idle": "2023-11-24T17:06:14.881868Z",
     "shell.execute_reply": "2023-11-24T17:06:14.880892Z"
    },
    "papermill": {
     "duration": 0.042961,
     "end_time": "2023-11-24T17:06:14.884470",
     "exception": false,
     "start_time": "2023-11-24T17:06:14.841509",
     "status": "completed"
    },
    "tags": []
   },
   "outputs": [],
   "source": [
    "replace_dict={0:'0',1:'1',2:'2',3:'other',4:'other',5:'other',6:'other',7:'other',8:'other',9:'other'\n",
    "              ,10:'other',11:'other',12:'other'}\n",
    "df[col] = df[col].replace(replace_dict)"
   ]
  },
  {
   "cell_type": "markdown",
   "id": "49bca815",
   "metadata": {
    "papermill": {
     "duration": 0.020973,
     "end_time": "2023-11-24T17:06:14.927081",
     "exception": false,
     "start_time": "2023-11-24T17:06:14.906108",
     "status": "completed"
    },
    "tags": []
   },
   "source": [
    "#### *VISUALIZING  NUMBER OF WEEKEND NIGHTS*"
   ]
  },
  {
   "cell_type": "code",
   "execution_count": 18,
   "id": "11ae377a",
   "metadata": {
    "execution": {
     "iopub.execute_input": "2023-11-24T17:06:14.972739Z",
     "iopub.status.busy": "2023-11-24T17:06:14.972254Z",
     "iopub.status.idle": "2023-11-24T17:06:15.295536Z",
     "shell.execute_reply": "2023-11-24T17:06:15.294363Z"
    },
    "papermill": {
     "duration": 0.34994,
     "end_time": "2023-11-24T17:06:15.298187",
     "exception": false,
     "start_time": "2023-11-24T17:06:14.948247",
     "status": "completed"
    },
    "tags": []
   },
   "outputs": [
    {
     "data": {
      "image/png": "[encoded data removed]",
      "text/plain": [
       "<Figure size 800x550 with 1 Axes>"
      ]
     },
     "metadata": {},
     "output_type": "display_data"
    }
   ],
   "source": [
    "\n",
    "col = discrete_cols[2]\n",
    "\n",
    "\n",
    "sns.countplot(x=df[col])\n",
    "\n",
    "\n",
    "for p in plt.gca().patches:\n",
    "    plt.gca().annotate(f'{int(p.get_height())}', (p.get_x() + p.get_width() / 2., p.get_height()),\n",
    "                       ha='center', va='center', xytext=(0, 10), textcoords='offset points', fontsize=10)\n",
    "\n",
    "plt.title(f'Count Plot for {col}')\n",
    "plt.show()"
   ]
  },
  {
   "cell_type": "markdown",
   "id": "16e21dab",
   "metadata": {
    "papermill": {
     "duration": 0.02176,
     "end_time": "2023-11-24T17:06:15.341938",
     "exception": false,
     "start_time": "2023-11-24T17:06:15.320178",
     "status": "completed"
    },
    "tags": []
   },
   "source": [
    "#### COMBINE INFREQUENT OR UNEXPECTED VALUES"
   ]
  },
  {
   "cell_type": "code",
   "execution_count": 19,
   "id": "5d352769",
   "metadata": {
    "execution": {
     "iopub.execute_input": "2023-11-24T17:06:15.388102Z",
     "iopub.status.busy": "2023-11-24T17:06:15.387656Z",
     "iopub.status.idle": "2023-11-24T17:06:15.403598Z",
     "shell.execute_reply": "2023-11-24T17:06:15.402275Z"
    },
    "papermill": {
     "duration": 0.042285,
     "end_time": "2023-11-24T17:06:15.406292",
     "exception": false,
     "start_time": "2023-11-24T17:06:15.364007",
     "status": "completed"
    },
    "tags": []
   },
   "outputs": [],
   "source": [
    "replace_dict={0:'0',1:'1',2:'2',3:'other',4:'other',5:'other',6:'other',7:'other',8:'other',9:'other'\n",
    "              ,10:'other',11:'other',12:'other'}\n",
    "df[col] = df[col].replace(replace_dict)"
   ]
  },
  {
   "cell_type": "markdown",
   "id": "ea52c93b",
   "metadata": {
    "papermill": {
     "duration": 0.021687,
     "end_time": "2023-11-24T17:06:15.451130",
     "exception": false,
     "start_time": "2023-11-24T17:06:15.429443",
     "status": "completed"
    },
    "tags": []
   },
   "source": [
    "#### *VISUALIZING  NUMBER OF WEEK NIGHTS*"
   ]
  },
  {
   "cell_type": "code",
   "execution_count": 20,
   "id": "ae787132",
   "metadata": {
    "execution": {
     "iopub.execute_input": "2023-11-24T17:06:15.497097Z",
     "iopub.status.busy": "2023-11-24T17:06:15.496676Z",
     "iopub.status.idle": "2023-11-24T17:06:15.905847Z",
     "shell.execute_reply": "2023-11-24T17:06:15.904663Z"
    },
    "papermill": {
     "duration": 0.435388,
     "end_time": "2023-11-24T17:06:15.908481",
     "exception": false,
     "start_time": "2023-11-24T17:06:15.473093",
     "status": "completed"
    },
    "tags": []
   },
   "outputs": [
    {
     "data": {
      "image/png": "[encoded data removed]",
      "text/plain": [
       "<Figure size 800x550 with 1 Axes>"
      ]
     },
     "metadata": {},
     "output_type": "display_data"
    }
   ],
   "source": [
    "\n",
    "col = discrete_cols[3]\n",
    "\n",
    "\n",
    "sns.countplot(x=df[col])\n",
    "\n",
    "\n",
    "for p in plt.gca().patches:\n",
    "    plt.gca().annotate(f'{int(p.get_height())}', (p.get_x() + p.get_width() / 2., p.get_height()),\n",
    "                       ha='center', va='center', xytext=(0, 10), textcoords='offset points', fontsize=10)\n",
    "\n",
    "plt.title(f'Count Plot for {col}')\n",
    "plt.show()"
   ]
  },
  {
   "cell_type": "markdown",
   "id": "a3ffe88e",
   "metadata": {
    "papermill": {
     "duration": 0.022536,
     "end_time": "2023-11-24T17:06:15.954055",
     "exception": false,
     "start_time": "2023-11-24T17:06:15.931519",
     "status": "completed"
    },
    "tags": []
   },
   "source": [
    "#### COMBINE INFREQUENT OR UNEXPECTED VALUES"
   ]
  },
  {
   "cell_type": "code",
   "execution_count": 21,
   "id": "f7ddfdbb",
   "metadata": {
    "execution": {
     "iopub.execute_input": "2023-11-24T17:06:16.003495Z",
     "iopub.status.busy": "2023-11-24T17:06:16.002651Z",
     "iopub.status.idle": "2023-11-24T17:06:16.022960Z",
     "shell.execute_reply": "2023-11-24T17:06:16.021738Z"
    },
    "papermill": {
     "duration": 0.048331,
     "end_time": "2023-11-24T17:06:16.025813",
     "exception": false,
     "start_time": "2023-11-24T17:06:15.977482",
     "status": "completed"
    },
    "tags": []
   },
   "outputs": [],
   "source": [
    "replace_dict={0:'0',1:'1',2:'2',3:'3',4:'4',5:'5',6:'other',7:'other',8:'other',9:'other'\n",
    "              ,10:'other',11:'other',12:'other',13:'other',14:'other',15:'other'\n",
    "             ,16:'other',17:'other',18:'other'}\n",
    "df[col] = df[col].replace(replace_dict)"
   ]
  },
  {
   "cell_type": "markdown",
   "id": "dc0d2adc",
   "metadata": {
    "papermill": {
     "duration": 0.023349,
     "end_time": "2023-11-24T17:06:16.071931",
     "exception": false,
     "start_time": "2023-11-24T17:06:16.048582",
     "status": "completed"
    },
    "tags": []
   },
   "source": [
    "#### *VISUALIZING  MEAL TYPES*\n"
   ]
  },
  {
   "cell_type": "code",
   "execution_count": 22,
   "id": "7d057dd4",
   "metadata": {
    "execution": {
     "iopub.execute_input": "2023-11-24T17:06:16.121350Z",
     "iopub.status.busy": "2023-11-24T17:06:16.120536Z",
     "iopub.status.idle": "2023-11-24T17:06:16.386662Z",
     "shell.execute_reply": "2023-11-24T17:06:16.385482Z"
    },
    "papermill": {
     "duration": 0.293429,
     "end_time": "2023-11-24T17:06:16.389214",
     "exception": false,
     "start_time": "2023-11-24T17:06:16.095785",
     "status": "completed"
    },
    "tags": []
   },
   "outputs": [
    {
     "data": {
      "image/png": "[encoded data removed]",
      "text/plain": [
       "<Figure size 800x550 with 1 Axes>"
      ]
     },
     "metadata": {},
     "output_type": "display_data"
    }
   ],
   "source": [
    "\n",
    "col = discrete_cols[4]\n",
    "\n",
    "\n",
    "sns.countplot(x=df[col])\n",
    "\n",
    "\n",
    "for p in plt.gca().patches:\n",
    "    plt.gca().annotate(f'{int(p.get_height())}', (p.get_x() + p.get_width() / 2., p.get_height()),\n",
    "                       ha='center', va='center', xytext=(0, 10), textcoords='offset points', fontsize=10)\n",
    "\n",
    "plt.title(f'Count Plot for {col}')\n",
    "plt.show()\n"
   ]
  },
  {
   "cell_type": "markdown",
   "id": "ac207f41",
   "metadata": {
    "papermill": {
     "duration": 0.025627,
     "end_time": "2023-11-24T17:06:16.438481",
     "exception": false,
     "start_time": "2023-11-24T17:06:16.412854",
     "status": "completed"
    },
    "tags": []
   },
   "source": [
    "#### *VISUALIZING  CAR PARKING SPACE*\n"
   ]
  },
  {
   "cell_type": "code",
   "execution_count": 23,
   "id": "1f5ac519",
   "metadata": {
    "execution": {
     "iopub.execute_input": "2023-11-24T17:06:16.486540Z",
     "iopub.status.busy": "2023-11-24T17:06:16.486075Z",
     "iopub.status.idle": "2023-11-24T17:06:16.746573Z",
     "shell.execute_reply": "2023-11-24T17:06:16.745359Z"
    },
    "papermill": {
     "duration": 0.288189,
     "end_time": "2023-11-24T17:06:16.749665",
     "exception": false,
     "start_time": "2023-11-24T17:06:16.461476",
     "status": "completed"
    },
    "tags": []
   },
   "outputs": [
    {
     "data": {
      "image/png": "[encoded data removed]",
      "text/plain": [
       "<Figure size 800x550 with 1 Axes>"
      ]
     },
     "metadata": {},
     "output_type": "display_data"
    }
   ],
   "source": [
    "\n",
    "col = discrete_cols[5]\n",
    "\n",
    "\n",
    "sns.countplot(x=df[col])\n",
    "\n",
    "\n",
    "for p in plt.gca().patches:\n",
    "    plt.gca().annotate(f'{int(p.get_height())}', (p.get_x() + p.get_width() / 2., p.get_height()),\n",
    "                       ha='center', va='center', xytext=(0, 10), textcoords='offset points', fontsize=10)\n",
    "\n",
    "plt.title(f'Count Plot for {col}')\n",
    "plt.show()\n"
   ]
  },
  {
   "cell_type": "markdown",
   "id": "bb93b3cc",
   "metadata": {
    "papermill": {
     "duration": 0.024172,
     "end_time": "2023-11-24T17:06:16.802244",
     "exception": false,
     "start_time": "2023-11-24T17:06:16.778072",
     "status": "completed"
    },
    "tags": []
   },
   "source": [
    "#### *VISUALIZING  CAR ROOM TYPE*\n"
   ]
  },
  {
   "cell_type": "code",
   "execution_count": 24,
   "id": "a91f6984",
   "metadata": {
    "execution": {
     "iopub.execute_input": "2023-11-24T17:06:16.851403Z",
     "iopub.status.busy": "2023-11-24T17:06:16.850952Z",
     "iopub.status.idle": "2023-11-24T17:06:17.206834Z",
     "shell.execute_reply": "2023-11-24T17:06:17.205666Z"
    },
    "papermill": {
     "duration": 0.38353,
     "end_time": "2023-11-24T17:06:17.209545",
     "exception": false,
     "start_time": "2023-11-24T17:06:16.826015",
     "status": "completed"
    },
    "tags": []
   },
   "outputs": [
    {
     "data": {
      "image/png": "[encoded data removed]",
      "text/plain": [
       "<Figure size 1000x600 with 1 Axes>"
      ]
     },
     "metadata": {},
     "output_type": "display_data"
    }
   ],
   "source": [
    "\n",
    "col = discrete_cols[6]\n",
    "plt.figure(figsize=(10, 6))\n",
    "\n",
    "sns.countplot(x=df[col])\n",
    "\n",
    "\n",
    "for p in plt.gca().patches:\n",
    "    plt.gca().annotate(f'{int(p.get_height())}', (p.get_x() + p.get_width() / 2., p.get_height()),\n",
    "                       ha='center', va='center', xytext=(0, 10), textcoords='offset points', fontsize=10)\n",
    "\n",
    "plt.title(f'Count Plot for {col}')\n",
    "plt.show()"
   ]
  },
  {
   "cell_type": "markdown",
   "id": "e3ddeaba",
   "metadata": {
    "papermill": {
     "duration": 0.024289,
     "end_time": "2023-11-24T17:06:17.258320",
     "exception": false,
     "start_time": "2023-11-24T17:06:17.234031",
     "status": "completed"
    },
    "tags": []
   },
   "source": [
    "#### COMBINE INFREQUENT OR UNEXPECTED VALUES"
   ]
  },
  {
   "cell_type": "code",
   "execution_count": 25,
   "id": "3b345f82",
   "metadata": {
    "execution": {
     "iopub.execute_input": "2023-11-24T17:06:17.310524Z",
     "iopub.status.busy": "2023-11-24T17:06:17.309270Z",
     "iopub.status.idle": "2023-11-24T17:06:17.332934Z",
     "shell.execute_reply": "2023-11-24T17:06:17.331812Z"
    },
    "papermill": {
     "duration": 0.052764,
     "end_time": "2023-11-24T17:06:17.335682",
     "exception": false,
     "start_time": "2023-11-24T17:06:17.282918",
     "status": "completed"
    },
    "tags": []
   },
   "outputs": [],
   "source": [
    "replace_dict={'Room_Type 1':'1'  ,'Room_Type 2':'other','Room_Type 3':'other','Room_Type 4':'4','Room_Type 5':'other'\n",
    "             ,'Room_Type 6':'other','Room_Type 7':'other'}\n",
    "\n",
    "df[col] = df[col].replace(replace_dict)"
   ]
  },
  {
   "cell_type": "markdown",
   "id": "bee433ac",
   "metadata": {
    "papermill": {
     "duration": 0.024829,
     "end_time": "2023-11-24T17:06:17.385349",
     "exception": false,
     "start_time": "2023-11-24T17:06:17.360520",
     "status": "completed"
    },
    "tags": []
   },
   "source": [
    "#### *VISUALIZING  MARKET SEGMENT TYPE*\n"
   ]
  },
  {
   "cell_type": "code",
   "execution_count": 26,
   "id": "a90b1bed",
   "metadata": {
    "execution": {
     "iopub.execute_input": "2023-11-24T17:06:17.438062Z",
     "iopub.status.busy": "2023-11-24T17:06:17.437238Z",
     "iopub.status.idle": "2023-11-24T17:06:17.749130Z",
     "shell.execute_reply": "2023-11-24T17:06:17.747979Z"
    },
    "papermill": {
     "duration": 0.340906,
     "end_time": "2023-11-24T17:06:17.751657",
     "exception": false,
     "start_time": "2023-11-24T17:06:17.410751",
     "status": "completed"
    },
    "tags": []
   },
   "outputs": [
    {
     "data": {
      "image/png": "[encoded data removed]",
      "text/plain": [
       "<Figure size 1000x600 with 1 Axes>"
      ]
     },
     "metadata": {},
     "output_type": "display_data"
    }
   ],
   "source": [
    "col = discrete_cols[7]\n",
    "plt.figure(figsize=(10, 6))\n",
    "\n",
    "sns.countplot(x=df[col])\n",
    "\n",
    "\n",
    "for p in plt.gca().patches:\n",
    "    plt.gca().annotate(f'{int(p.get_height())}', (p.get_x() + p.get_width() / 2., p.get_height()),\n",
    "                       ha='center', va='center', xytext=(0, 10), textcoords='offset points', fontsize=10)\n",
    "\n",
    "plt.title(f'Count Plot for {col}')\n",
    "plt.show()"
   ]
  },
  {
   "cell_type": "markdown",
   "id": "bd2acbca",
   "metadata": {
    "papermill": {
     "duration": 0.02637,
     "end_time": "2023-11-24T17:06:17.804202",
     "exception": false,
     "start_time": "2023-11-24T17:06:17.777832",
     "status": "completed"
    },
    "tags": []
   },
   "source": [
    "#### COMBINE INFREQUENT OR UNEXPECTED VALUES\n"
   ]
  },
  {
   "cell_type": "code",
   "execution_count": 27,
   "id": "117ee66e",
   "metadata": {
    "execution": {
     "iopub.execute_input": "2023-11-24T17:06:17.857134Z",
     "iopub.status.busy": "2023-11-24T17:06:17.856730Z",
     "iopub.status.idle": "2023-11-24T17:06:17.871259Z",
     "shell.execute_reply": "2023-11-24T17:06:17.869905Z"
    },
    "papermill": {
     "duration": 0.04391,
     "end_time": "2023-11-24T17:06:17.873904",
     "exception": false,
     "start_time": "2023-11-24T17:06:17.829994",
     "status": "completed"
    },
    "tags": []
   },
   "outputs": [],
   "source": [
    "replace_dict={'Corporate':'other'\n",
    "             ,'Aviation':'other','Complementary':'other'}\n",
    "\n",
    "df[col] = df[col].replace(replace_dict)"
   ]
  },
  {
   "cell_type": "markdown",
   "id": "ecdf10f0",
   "metadata": {
    "papermill": {
     "duration": 0.026263,
     "end_time": "2023-11-24T17:06:17.926846",
     "exception": false,
     "start_time": "2023-11-24T17:06:17.900583",
     "status": "completed"
    },
    "tags": []
   },
   "source": [
    "#### *VISUALIZING  REPEATED*\n"
   ]
  },
  {
   "cell_type": "code",
   "execution_count": 28,
   "id": "cd30d301",
   "metadata": {
    "execution": {
     "iopub.execute_input": "2023-11-24T17:06:17.979892Z",
     "iopub.status.busy": "2023-11-24T17:06:17.979368Z",
     "iopub.status.idle": "2023-11-24T17:06:18.256150Z",
     "shell.execute_reply": "2023-11-24T17:06:18.254885Z"
    },
    "papermill": {
     "duration": 0.307178,
     "end_time": "2023-11-24T17:06:18.258905",
     "exception": false,
     "start_time": "2023-11-24T17:06:17.951727",
     "status": "completed"
    },
    "tags": []
   },
   "outputs": [
    {
     "data": {
      "image/png": "[encoded data removed]",
      "text/plain": [
       "<Figure size 1000x600 with 1 Axes>"
      ]
     },
     "metadata": {},
     "output_type": "display_data"
    }
   ],
   "source": [
    "col = discrete_cols[8]\n",
    "plt.figure(figsize=(10, 6))\n",
    "\n",
    "sns.countplot(x=df[col])\n",
    "\n",
    "\n",
    "for p in plt.gca().patches:\n",
    "    plt.gca().annotate(f'{int(p.get_height())}', (p.get_x() + p.get_width() / 2., p.get_height()),\n",
    "                       ha='center', va='center', xytext=(0, 10), textcoords='offset points', fontsize=10)\n",
    "\n",
    "plt.title(f'Count Plot for {col}')\n",
    "plt.show()"
   ]
  },
  {
   "cell_type": "markdown",
   "id": "7d7a08cd",
   "metadata": {
    "papermill": {
     "duration": 0.025703,
     "end_time": "2023-11-24T17:06:18.310797",
     "exception": false,
     "start_time": "2023-11-24T17:06:18.285094",
     "status": "completed"
    },
    "tags": []
   },
   "source": [
    "#### *VISUALIZING  P-C*\n"
   ]
  },
  {
   "cell_type": "code",
   "execution_count": 29,
   "id": "05636aca",
   "metadata": {
    "execution": {
     "iopub.execute_input": "2023-11-24T17:06:18.364128Z",
     "iopub.status.busy": "2023-11-24T17:06:18.363700Z",
     "iopub.status.idle": "2023-11-24T17:06:18.652416Z",
     "shell.execute_reply": "2023-11-24T17:06:18.651176Z"
    },
    "papermill": {
     "duration": 0.318516,
     "end_time": "2023-11-24T17:06:18.655071",
     "exception": false,
     "start_time": "2023-11-24T17:06:18.336555",
     "status": "completed"
    },
    "tags": []
   },
   "outputs": [
    {
     "data": {
      "image/png": "[encoded data removed]",
      "text/plain": [
       "<Figure size 1000x600 with 1 Axes>"
      ]
     },
     "metadata": {},
     "output_type": "display_data"
    }
   ],
   "source": [
    "col = discrete_cols[9]\n",
    "plt.figure(figsize=(10, 6))\n",
    "\n",
    "sns.countplot(x=df[col])\n",
    "\n",
    "\n",
    "for p in plt.gca().patches:\n",
    "    plt.gca().annotate(f'{int(p.get_height())}', (p.get_x() + p.get_width() / 2., p.get_height()),\n",
    "                       ha='center', va='center', xytext=(0, 10), textcoords='offset points', fontsize=10)\n",
    "\n",
    "plt.title(f'Count Plot for {col}')\n",
    "plt.show()"
   ]
  },
  {
   "cell_type": "markdown",
   "id": "c7e19292",
   "metadata": {
    "papermill": {
     "duration": 0.025769,
     "end_time": "2023-11-24T17:06:18.706812",
     "exception": false,
     "start_time": "2023-11-24T17:06:18.681043",
     "status": "completed"
    },
    "tags": []
   },
   "source": [
    "#### COMBINE INFREQUENT OR UNEXPECTED VALUES\n"
   ]
  },
  {
   "cell_type": "code",
   "execution_count": 30,
   "id": "56e8f82c",
   "metadata": {
    "execution": {
     "iopub.execute_input": "2023-11-24T17:06:18.760345Z",
     "iopub.status.busy": "2023-11-24T17:06:18.759914Z",
     "iopub.status.idle": "2023-11-24T17:06:18.774198Z",
     "shell.execute_reply": "2023-11-24T17:06:18.772621Z"
    },
    "papermill": {
     "duration": 0.04451,
     "end_time": "2023-11-24T17:06:18.777180",
     "exception": false,
     "start_time": "2023-11-24T17:06:18.732670",
     "status": "completed"
    },
    "scrolled": true,
    "tags": []
   },
   "outputs": [],
   "source": [
    "replace_dict={0:'NO',1:'YES',2:'YES',3:'YES',4:'YES',5:'YES',6:'YES',11:'YES',13:'YES'}\n",
    "df[col] = df[col].replace(replace_dict)\n"
   ]
  },
  {
   "cell_type": "markdown",
   "id": "5b566744",
   "metadata": {
    "papermill": {
     "duration": 0.025479,
     "end_time": "2023-11-24T17:06:18.828503",
     "exception": false,
     "start_time": "2023-11-24T17:06:18.803024",
     "status": "completed"
    },
    "tags": []
   },
   "source": [
    "#### *VISUALIZING  MONTH*"
   ]
  },
  {
   "cell_type": "code",
   "execution_count": 31,
   "id": "c3ddd1e5",
   "metadata": {
    "execution": {
     "iopub.execute_input": "2023-11-24T17:06:18.882085Z",
     "iopub.status.busy": "2023-11-24T17:06:18.881627Z",
     "iopub.status.idle": "2023-11-24T17:06:19.207713Z",
     "shell.execute_reply": "2023-11-24T17:06:19.206396Z"
    },
    "papermill": {
     "duration": 0.356295,
     "end_time": "2023-11-24T17:06:19.210557",
     "exception": false,
     "start_time": "2023-11-24T17:06:18.854262",
     "status": "completed"
    },
    "tags": []
   },
   "outputs": [
    {
     "data": {
      "image/png": "[encoded data removed]",
      "text/plain": [
       "<Figure size 1000x600 with 1 Axes>"
      ]
     },
     "metadata": {},
     "output_type": "display_data"
    }
   ],
   "source": [
    "\n",
    "col = discrete_cols[10]\n",
    "plt.figure(figsize=(10, 6))\n",
    "\n",
    "sns.countplot(x=df[col])\n",
    "\n",
    "\n",
    "for p in plt.gca().patches:\n",
    "    plt.gca().annotate(f'{int(p.get_height())}', (p.get_x() + p.get_width() / 2., p.get_height()),\n",
    "                       ha='center', va='center', xytext=(0, 10), textcoords='offset points', fontsize=10)\n",
    "\n",
    "plt.title(f'Count Plot for {col}')\n",
    "plt.show()"
   ]
  },
  {
   "cell_type": "markdown",
   "id": "1fce676a",
   "metadata": {
    "papermill": {
     "duration": 0.026937,
     "end_time": "2023-11-24T17:06:19.264014",
     "exception": false,
     "start_time": "2023-11-24T17:06:19.237077",
     "status": "completed"
    },
    "tags": []
   },
   "source": [
    "#### *VISUALIZING  YEAR*"
   ]
  },
  {
   "cell_type": "code",
   "execution_count": 32,
   "id": "5dd87f17",
   "metadata": {
    "execution": {
     "iopub.execute_input": "2023-11-24T17:06:19.329764Z",
     "iopub.status.busy": "2023-11-24T17:06:19.328489Z",
     "iopub.status.idle": "2023-11-24T17:06:19.556407Z",
     "shell.execute_reply": "2023-11-24T17:06:19.555228Z"
    },
    "papermill": {
     "duration": 0.26494,
     "end_time": "2023-11-24T17:06:19.558852",
     "exception": false,
     "start_time": "2023-11-24T17:06:19.293912",
     "status": "completed"
    },
    "tags": []
   },
   "outputs": [
    {
     "data": {
      "image/png": "[encoded data removed]",
      "text/plain": [
       "<Figure size 1000x600 with 1 Axes>"
      ]
     },
     "metadata": {},
     "output_type": "display_data"
    }
   ],
   "source": [
    "\n",
    "col = discrete_cols[11]\n",
    "plt.figure(figsize=(10, 6))\n",
    "\n",
    "sns.countplot(x=df[col])\n",
    "\n",
    "\n",
    "for p in plt.gca().patches:\n",
    "    plt.gca().annotate(f'{int(p.get_height())}', (p.get_x() + p.get_width() / 2., p.get_height()),\n",
    "                       ha='center', va='center', xytext=(0, 10), textcoords='offset points', fontsize=10)\n",
    "\n",
    "plt.title(f'Count Plot for {col}')\n",
    "plt.show()"
   ]
  },
  {
   "cell_type": "markdown",
   "id": "b136ef11",
   "metadata": {
    "papermill": {
     "duration": 0.027017,
     "end_time": "2023-11-24T17:06:19.614117",
     "exception": false,
     "start_time": "2023-11-24T17:06:19.587100",
     "status": "completed"
    },
    "tags": []
   },
   "source": [
    "#### DROP INFREQUENT OR UNEXPECTED VALUES\n"
   ]
  },
  {
   "cell_type": "code",
   "execution_count": 33,
   "id": "baa7bfa8",
   "metadata": {
    "execution": {
     "iopub.execute_input": "2023-11-24T17:06:19.670621Z",
     "iopub.status.busy": "2023-11-24T17:06:19.670163Z",
     "iopub.status.idle": "2023-11-24T17:06:19.696029Z",
     "shell.execute_reply": "2023-11-24T17:06:19.694851Z"
    },
    "papermill": {
     "duration": 0.0577,
     "end_time": "2023-11-24T17:06:19.698714",
     "exception": false,
     "start_time": "2023-11-24T17:06:19.641014",
     "status": "completed"
    },
    "tags": []
   },
   "outputs": [],
   "source": [
    "indices=df[(df[col].isin([2015]))].index\n",
    "df.drop(indices,axis=0,inplace=True)"
   ]
  },
  {
   "cell_type": "markdown",
   "id": "581d1c90",
   "metadata": {
    "papermill": {
     "duration": 0.027858,
     "end_time": "2023-11-24T17:06:19.755702",
     "exception": false,
     "start_time": "2023-11-24T17:06:19.727844",
     "status": "completed"
    },
    "tags": []
   },
   "source": [
    "#### *VISUALIZING  P_ NOT _C*"
   ]
  },
  {
   "cell_type": "code",
   "execution_count": 34,
   "id": "f77be4e1",
   "metadata": {
    "execution": {
     "iopub.execute_input": "2023-11-24T17:06:19.813644Z",
     "iopub.status.busy": "2023-11-24T17:06:19.813165Z",
     "iopub.status.idle": "2023-11-24T17:06:20.654717Z",
     "shell.execute_reply": "2023-11-24T17:06:20.653581Z"
    },
    "papermill": {
     "duration": 0.874566,
     "end_time": "2023-11-24T17:06:20.657469",
     "exception": false,
     "start_time": "2023-11-24T17:06:19.782903",
     "status": "completed"
    },
    "tags": []
   },
   "outputs": [
    {
     "data": {
      "image/png": "[encoded data removed]",
      "text/plain": [
       "<Figure size 1500x600 with 1 Axes>"
      ]
     },
     "metadata": {},
     "output_type": "display_data"
    }
   ],
   "source": [
    "\n",
    "col = discrete_cols[12]\n",
    "plt.figure(figsize=(15, 6))\n",
    "\n",
    "sns.countplot(x=df[col])\n",
    "\n",
    "\n",
    "for p in plt.gca().patches:\n",
    "    plt.gca().annotate(f'{int(p.get_height())}', (p.get_x() + p.get_width() / 2., p.get_height()),\n",
    "                       ha='center', va='center', xytext=(0, 10), textcoords='offset points', fontsize=10)\n",
    "\n",
    "plt.title(f'Count Plot for {col}')\n",
    "plt.show()"
   ]
  },
  {
   "cell_type": "markdown",
   "id": "974c4e28",
   "metadata": {
    "papermill": {
     "duration": 0.027131,
     "end_time": "2023-11-24T17:06:20.713478",
     "exception": false,
     "start_time": "2023-11-24T17:06:20.686347",
     "status": "completed"
    },
    "tags": []
   },
   "source": [
    "#### COMBINE INFREQUENT OR UNEXPECTED VALUES\n"
   ]
  },
  {
   "cell_type": "code",
   "execution_count": 35,
   "id": "6b8f3d0d",
   "metadata": {
    "execution": {
     "iopub.execute_input": "2023-11-24T17:06:20.771061Z",
     "iopub.status.busy": "2023-11-24T17:06:20.770451Z",
     "iopub.status.idle": "2023-11-24T17:06:20.808717Z",
     "shell.execute_reply": "2023-11-24T17:06:20.807420Z"
    },
    "papermill": {
     "duration": 0.070706,
     "end_time": "2023-11-24T17:06:20.811639",
     "exception": false,
     "start_time": "2023-11-24T17:06:20.740933",
     "status": "completed"
    },
    "tags": []
   },
   "outputs": [],
   "source": [
    "replace_dict={0:'YES'  ,5:'NO',  3:'NO',  1:'NO', 12:'NO', 19:'NO',  2:'NO', 15:'NO', 17:'NO',  4:'NO', 13:'NO',  6:'NO'\n",
    "              , 14:'NO', 34:'NO', 18:'NO', 16:'NO',  8:'NO',10:'NO', 23:'NO', 11:'NO', 49:'NO', 47:'NO', 53:'NO',  7:'NO',\n",
    "              9:'NO', 33:'NO', 22:'NO', 24:'NO', 52:'NO', 21:'NO', 48:'NO', 28:'NO', 39:'NO', 20:'NO',38:'NO', 26:'NO',\n",
    "              51:'NO', 42:'NO', 37:'NO', 35:'NO', 56:'NO', 44:'NO', 27:'NO', 55:'NO', 45:'NO', 30:'NO', 57:'NO', 31:'NO'\n",
    "              , 54:'NO', 43:'NO', 58:'NO',41:'NO', 29:'NO', 40:'NO', 36:'NO', 32:'NO',50:'NO', 25:'NO', 46:'NO' }\n",
    "df[col] = df[col].replace(replace_dict)\n"
   ]
  },
  {
   "cell_type": "markdown",
   "id": "24a41690",
   "metadata": {
    "papermill": {
     "duration": 0.029142,
     "end_time": "2023-11-24T17:06:20.868403",
     "exception": false,
     "start_time": "2023-11-24T17:06:20.839261",
     "status": "completed"
    },
    "tags": []
   },
   "source": [
    "#### *VISUALIZING  SPECIAL REQUESTS*"
   ]
  },
  {
   "cell_type": "code",
   "execution_count": 36,
   "id": "195728b2",
   "metadata": {
    "execution": {
     "iopub.execute_input": "2023-11-24T17:06:20.930073Z",
     "iopub.status.busy": "2023-11-24T17:06:20.928699Z",
     "iopub.status.idle": "2023-11-24T17:06:21.207230Z",
     "shell.execute_reply": "2023-11-24T17:06:21.206049Z"
    },
    "papermill": {
     "duration": 0.31317,
     "end_time": "2023-11-24T17:06:21.210420",
     "exception": false,
     "start_time": "2023-11-24T17:06:20.897250",
     "status": "completed"
    },
    "tags": []
   },
   "outputs": [
    {
     "data": {
      "image/png": "[encoded data removed]",
      "text/plain": [
       "<Figure size 1000x600 with 1 Axes>"
      ]
     },
     "metadata": {},
     "output_type": "display_data"
    }
   ],
   "source": [
    "\n",
    "col = discrete_cols[13]\n",
    "plt.figure(figsize=(10, 6))\n",
    "\n",
    "sns.countplot(x=df[col])\n",
    "\n",
    "\n",
    "for p in plt.gca().patches:\n",
    "    plt.gca().annotate(f'{int(p.get_height())}', (p.get_x() + p.get_width() / 2., p.get_height()),\n",
    "                       ha='center', va='center', xytext=(0, 10), textcoords='offset points', fontsize=10)\n",
    "\n",
    "plt.title(f'Count Plot for {col}')\n",
    "plt.show()"
   ]
  },
  {
   "cell_type": "markdown",
   "id": "e77bb6db",
   "metadata": {
    "papermill": {
     "duration": 0.027688,
     "end_time": "2023-11-24T17:06:21.266699",
     "exception": false,
     "start_time": "2023-11-24T17:06:21.239011",
     "status": "completed"
    },
    "tags": []
   },
   "source": [
    "#### COMBINE INFREQUENT OR UNEXPECTED VALUES\n"
   ]
  },
  {
   "cell_type": "code",
   "execution_count": 37,
   "id": "9e3560f5",
   "metadata": {
    "execution": {
     "iopub.execute_input": "2023-11-24T17:06:21.328048Z",
     "iopub.status.busy": "2023-11-24T17:06:21.327624Z",
     "iopub.status.idle": "2023-11-24T17:06:21.341295Z",
     "shell.execute_reply": "2023-11-24T17:06:21.339721Z"
    },
    "papermill": {
     "duration": 0.047673,
     "end_time": "2023-11-24T17:06:21.344146",
     "exception": false,
     "start_time": "2023-11-24T17:06:21.296473",
     "status": "completed"
    },
    "tags": []
   },
   "outputs": [],
   "source": [
    "replace_dict={0:'0'  ,1:'1',  2:'2',  3:'other', 4:'other',5:'other'}\n",
    "df[col] = df[col].replace(replace_dict)"
   ]
  },
  {
   "cell_type": "markdown",
   "id": "3f150fb7",
   "metadata": {
    "papermill": {
     "duration": 0.028994,
     "end_time": "2023-11-24T17:06:21.402238",
     "exception": false,
     "start_time": "2023-11-24T17:06:21.373244",
     "status": "completed"
    },
    "tags": []
   },
   "source": [
    "#### *VISUALIZING  DAY*"
   ]
  },
  {
   "cell_type": "code",
   "execution_count": 38,
   "id": "1c2f536d",
   "metadata": {
    "execution": {
     "iopub.execute_input": "2023-11-24T17:06:21.461998Z",
     "iopub.status.busy": "2023-11-24T17:06:21.461275Z",
     "iopub.status.idle": "2023-11-24T17:06:22.001919Z",
     "shell.execute_reply": "2023-11-24T17:06:22.001044Z"
    },
    "papermill": {
     "duration": 0.573207,
     "end_time": "2023-11-24T17:06:22.004340",
     "exception": false,
     "start_time": "2023-11-24T17:06:21.431133",
     "status": "completed"
    },
    "tags": []
   },
   "outputs": [
    {
     "data": {
      "image/png": "[encoded data removed]",
      "text/plain": [
       "<Figure size 1000x600 with 1 Axes>"
      ]
     },
     "metadata": {},
     "output_type": "display_data"
    }
   ],
   "source": [
    "col = 'day'\n",
    "plt.figure(figsize=(10, 6))\n",
    "\n",
    "sns.countplot(x=df[col])\n",
    "\n",
    "\n",
    "for p in plt.gca().patches:\n",
    "    plt.gca().annotate(f'{int(p.get_height())}', (p.get_x() + p.get_width() / 2., p.get_height()),\n",
    "                       ha='center', va='center', xytext=(0, 10), textcoords='offset points', fontsize=10)\n",
    "\n",
    "plt.title(f'Count Plot for {col}')\n",
    "plt.show()"
   ]
  },
  {
   "cell_type": "markdown",
   "id": "8f8356e1",
   "metadata": {
    "papermill": {
     "duration": 0.028349,
     "end_time": "2023-11-24T17:06:22.062562",
     "exception": false,
     "start_time": "2023-11-24T17:06:22.034213",
     "status": "completed"
    },
    "tags": []
   },
   "source": [
    "## *FEATURE ENCODING*"
   ]
  },
  {
   "cell_type": "code",
   "execution_count": 39,
   "id": "25b2001c",
   "metadata": {
    "execution": {
     "iopub.execute_input": "2023-11-24T17:06:22.123468Z",
     "iopub.status.busy": "2023-11-24T17:06:22.122788Z",
     "iopub.status.idle": "2023-11-24T17:06:22.158133Z",
     "shell.execute_reply": "2023-11-24T17:06:22.156815Z"
    },
    "papermill": {
     "duration": 0.069601,
     "end_time": "2023-11-24T17:06:22.160943",
     "exception": false,
     "start_time": "2023-11-24T17:06:22.091342",
     "status": "completed"
    },
    "tags": []
   },
   "outputs": [
    {
     "name": "stdout",
     "output_type": "stream",
     "text": [
      "number of adults\n",
      "['1' '2' '3' 'other']\n",
      "===========================================================================\n",
      "number of children\n",
      "['0' '1' '2' 'other']\n",
      "===========================================================================\n",
      "number of weekend nights\n",
      "['1' '0' '2' 'other']\n",
      "===========================================================================\n",
      "number of week nights\n",
      "['3' '2' '4' '5' '0' '1' 'other']\n",
      "===========================================================================\n",
      "type of meal\n",
      "['Not Selected' 'Meal Plan 1' 'Meal Plan 2']\n",
      "===========================================================================\n",
      "car parking space\n",
      "[0 1]\n",
      "===========================================================================\n",
      "room type\n",
      "['1' '4' 'other']\n",
      "===========================================================================\n",
      "lead time\n",
      "[  5   1 211  48  34  83 121  44   0  35  30  95  47 256  99  12 122   2\n",
      "  37 130  60  56   3 107  72  23 289 247 186  64  96  41  55 146  32  57\n",
      "   7 124 169   6  51  13 100 139 117  39  86  19 192 179  26  74 143 177\n",
      "  18 267 155  46 128  20  40 196 188  17 110  68  73  92 171 134 118 189\n",
      "  16  24   8  10 182 123 105 286 148  14  85  25  28  80  11 162  82  27\n",
      " 245 266 112  88  69 273   4  97  31  62 197 280 185 160 104  22 109 126\n",
      "  81  54  15 161 147  87 127 156  58 111 195 119  59  78 103  70  76 144\n",
      "  49  77  36  79  21  33 164 152  43 102  71 209  93  53 239  45 167 113\n",
      " 166 174  61 151  52  84  67 282  38 175  89 133  65  66  50 159 115 237\n",
      " 125  91  29 221 213 198  75 180 224 236 120 230  63 136 157 268 217  94\n",
      "  98  42 154   9 137 184 232 114 257 265 191 101 259 116 149 170 271 207\n",
      " 108 210 222 194 145 153 275 158 200 181 263 176 141 270 150 244 219 142\n",
      " 138 276 178 163 216 226 258 254 193 131 208 190 231 248 106 140 173 168\n",
      " 172  90 249 205 129 212 135 220 277 253 132 183 255 223 288 229 199 203\n",
      " 228 246 235 281 202 287 206 269 279 261 214 250 187 240 241 227 225 233\n",
      " 283 204 165 251 285 238 215 278 243 201 272 274 252 242 284 260 262 218\n",
      " 234 264]\n",
      "===========================================================================\n",
      "market segment type\n",
      "['Online' 'Offline' 'other']\n",
      "===========================================================================\n",
      "repeated\n",
      "[0 1]\n",
      "===========================================================================\n",
      "P-C\n",
      "['NO' 'YES']\n",
      "===========================================================================\n",
      "P-not-C\n",
      "['YES' 'NO']\n",
      "===========================================================================\n",
      "average price \n",
      "[106.68  50.   100.   ... 118.43 137.25 167.8 ]\n",
      "===========================================================================\n",
      "special requests\n",
      "['1' '0' 'other' '2']\n",
      "===========================================================================\n",
      "booking status\n",
      "['Not_Canceled' 'Canceled']\n",
      "===========================================================================\n",
      "month\n",
      "[11  2  5  4 10 12  7  9  6  8  3  1]\n",
      "===========================================================================\n",
      "day\n",
      "[ 6 28 20 11 15 26 18 30  5 10  4 25 13 22 21 19 17  7  9 27  1 29 16  3\n",
      " 24 14 31 23  8  2 12]\n",
      "===========================================================================\n",
      "year\n",
      "[2018 2017]\n",
      "===========================================================================\n"
     ]
    }
   ],
   "source": [
    "for col in df.columns:\n",
    "    print(f'{col}')\n",
    "    print(df[col].unique())\n",
    "    print('='*75)"
   ]
  },
  {
   "cell_type": "code",
   "execution_count": 40,
   "id": "09f6fe08",
   "metadata": {
    "execution": {
     "iopub.execute_input": "2023-11-24T17:06:22.221356Z",
     "iopub.status.busy": "2023-11-24T17:06:22.220323Z",
     "iopub.status.idle": "2023-11-24T17:06:22.306730Z",
     "shell.execute_reply": "2023-11-24T17:06:22.305572Z"
    },
    "papermill": {
     "duration": 0.119663,
     "end_time": "2023-11-24T17:06:22.309573",
     "exception": false,
     "start_time": "2023-11-24T17:06:22.189910",
     "status": "completed"
    },
    "tags": []
   },
   "outputs": [],
   "source": [
    "hot=['number of adults', 'number of children', 'number of weekend nights',\n",
    "       'number of week nights', 'type of meal', 'car parking space',\n",
    "       'room type', 'market segment type', 'repeated', 'P-C',\n",
    "       'P-not-C', 'special requests']\n",
    "df=pd.get_dummies(columns=hot,data=df)\n",
    "df['booking status']=df['booking status'].replace({'Not_Canceled':0 ,'Canceled':1})\n"
   ]
  },
  {
   "cell_type": "markdown",
   "id": "e4db7ae5",
   "metadata": {
    "papermill": {
     "duration": 0.030134,
     "end_time": "2023-11-24T17:06:22.370121",
     "exception": false,
     "start_time": "2023-11-24T17:06:22.339987",
     "status": "completed"
    },
    "tags": []
   },
   "source": [
    "## *DATA SPLITTING* "
   ]
  },
  {
   "cell_type": "code",
   "execution_count": 41,
   "id": "7be45fe4",
   "metadata": {
    "execution": {
     "iopub.execute_input": "2023-11-24T17:06:22.432474Z",
     "iopub.status.busy": "2023-11-24T17:06:22.432047Z",
     "iopub.status.idle": "2023-11-24T17:06:22.458354Z",
     "shell.execute_reply": "2023-11-24T17:06:22.457423Z"
    },
    "papermill": {
     "duration": 0.060398,
     "end_time": "2023-11-24T17:06:22.460975",
     "exception": false,
     "start_time": "2023-11-24T17:06:22.400577",
     "status": "completed"
    },
    "tags": []
   },
   "outputs": [],
   "source": [
    "X = df.drop('booking status', axis=1)\n",
    "y = df['booking status']\n",
    "\n",
    "cols=X.columns\n",
    "X_train, X_test, y_train, y_test = train_test_split(X, y, test_size=0.2, random_state=42)\n",
    "\n",
    "#X_train.to_csv('before_scaling.csv')\n",
    "# saving this to use in deployment to train scaler on it "
   ]
  },
  {
   "cell_type": "markdown",
   "id": "78ce2bf5",
   "metadata": {
    "papermill": {
     "duration": 0.029029,
     "end_time": "2023-11-24T17:06:22.519966",
     "exception": false,
     "start_time": "2023-11-24T17:06:22.490937",
     "status": "completed"
    },
    "tags": []
   },
   "source": [
    "## *DATA SCALING* "
   ]
  },
  {
   "cell_type": "code",
   "execution_count": 42,
   "id": "f8fe36a5",
   "metadata": {
    "execution": {
     "iopub.execute_input": "2023-11-24T17:06:22.584771Z",
     "iopub.status.busy": "2023-11-24T17:06:22.584272Z",
     "iopub.status.idle": "2023-11-24T17:06:22.674733Z",
     "shell.execute_reply": "2023-11-24T17:06:22.673453Z"
    },
    "papermill": {
     "duration": 0.125931,
     "end_time": "2023-11-24T17:06:22.677664",
     "exception": false,
     "start_time": "2023-11-24T17:06:22.551733",
     "status": "completed"
    },
    "tags": []
   },
   "outputs": [],
   "source": [
    "robust_scaler = RobustScaler()\n",
    "\n",
    "X_train = robust_scaler.fit_transform(X_train)\n",
    "X_test=robust_scaler.fit_transform(X_test)"
   ]
  },
  {
   "cell_type": "markdown",
   "id": "8a968e40",
   "metadata": {
    "papermill": {
     "duration": 0.029516,
     "end_time": "2023-11-24T17:06:22.737477",
     "exception": false,
     "start_time": "2023-11-24T17:06:22.707961",
     "status": "completed"
    },
    "tags": []
   },
   "source": [
    "## *MODELING*"
   ]
  },
  {
   "cell_type": "markdown",
   "id": "950b70a5",
   "metadata": {
    "papermill": {
     "duration": 0.030218,
     "end_time": "2023-11-24T17:06:22.797625",
     "exception": false,
     "start_time": "2023-11-24T17:06:22.767407",
     "status": "completed"
    },
    "tags": []
   },
   "source": [
    "#### *COMPARE BETWEEN MODELS TO SELECT THE BEST MODEL TO OPTMIZE IT*"
   ]
  },
  {
   "cell_type": "code",
   "execution_count": 43,
   "id": "c2c0f7f7",
   "metadata": {
    "execution": {
     "iopub.execute_input": "2023-11-24T17:06:22.862245Z",
     "iopub.status.busy": "2023-11-24T17:06:22.861771Z",
     "iopub.status.idle": "2023-11-24T17:06:56.144516Z",
     "shell.execute_reply": "2023-11-24T17:06:56.143333Z"
    },
    "papermill": {
     "duration": 33.317728,
     "end_time": "2023-11-24T17:06:56.146994",
     "exception": false,
     "start_time": "2023-11-24T17:06:22.829266",
     "status": "completed"
    },
    "tags": []
   },
   "outputs": [
    {
     "data": {
      "text/html": [
       "<style type=\"text/css\">\n",
       "</style>\n",
       "<table id=\"T_5385b\">\n",
       "  <thead>\n",
       "    <tr>\n",
       "      <th class=\"blank level0\" >&nbsp;</th>\n",
       "      <th id=\"T_5385b_level0_col0\" class=\"col_heading level0 col0\" >Description</th>\n",
       "      <th id=\"T_5385b_level0_col1\" class=\"col_heading level0 col1\" >Value</th>\n",
       "    </tr>\n",
       "  </thead>\n",
       "  <tbody>\n",
       "    <tr>\n",
       "      <th id=\"T_5385b_level0_row0\" class=\"row_heading level0 row0\" >0</th>\n",
       "      <td id=\"T_5385b_row0_col0\" class=\"data row0 col0\" >Session id</td>\n",
       "      <td id=\"T_5385b_row0_col1\" class=\"data row0 col1\" >8389</td>\n",
       "    </tr>\n",
       "    <tr>\n",
       "      <th id=\"T_5385b_level0_row1\" class=\"row_heading level0 row1\" >1</th>\n",
       "      <td id=\"T_5385b_row1_col0\" class=\"data row1 col0\" >Target</td>\n",
       "      <td id=\"T_5385b_row1_col1\" class=\"data row1 col1\" >target_variable</td>\n",
       "    </tr>\n",
       "    <tr>\n",
       "      <th id=\"T_5385b_level0_row2\" class=\"row_heading level0 row2\" >2</th>\n",
       "      <td id=\"T_5385b_row2_col0\" class=\"data row2 col0\" >Target type</td>\n",
       "      <td id=\"T_5385b_row2_col1\" class=\"data row2 col1\" >Binary</td>\n",
       "    </tr>\n",
       "    <tr>\n",
       "      <th id=\"T_5385b_level0_row3\" class=\"row_heading level0 row3\" >3</th>\n",
       "      <td id=\"T_5385b_row3_col0\" class=\"data row3 col0\" >Original data shape</td>\n",
       "      <td id=\"T_5385b_row3_col1\" class=\"data row3 col1\" >(26675, 46)</td>\n",
       "    </tr>\n",
       "    <tr>\n",
       "      <th id=\"T_5385b_level0_row4\" class=\"row_heading level0 row4\" >4</th>\n",
       "      <td id=\"T_5385b_row4_col0\" class=\"data row4 col0\" >Transformed data shape</td>\n",
       "      <td id=\"T_5385b_row4_col1\" class=\"data row4 col1\" >(26675, 46)</td>\n",
       "    </tr>\n",
       "    <tr>\n",
       "      <th id=\"T_5385b_level0_row5\" class=\"row_heading level0 row5\" >5</th>\n",
       "      <td id=\"T_5385b_row5_col0\" class=\"data row5 col0\" >Transformed train set shape</td>\n",
       "      <td id=\"T_5385b_row5_col1\" class=\"data row5 col1\" >(24007, 46)</td>\n",
       "    </tr>\n",
       "    <tr>\n",
       "      <th id=\"T_5385b_level0_row6\" class=\"row_heading level0 row6\" >6</th>\n",
       "      <td id=\"T_5385b_row6_col0\" class=\"data row6 col0\" >Transformed test set shape</td>\n",
       "      <td id=\"T_5385b_row6_col1\" class=\"data row6 col1\" >(2668, 46)</td>\n",
       "    </tr>\n",
       "    <tr>\n",
       "      <th id=\"T_5385b_level0_row7\" class=\"row_heading level0 row7\" >7</th>\n",
       "      <td id=\"T_5385b_row7_col0\" class=\"data row7 col0\" >Numeric features</td>\n",
       "      <td id=\"T_5385b_row7_col1\" class=\"data row7 col1\" >45</td>\n",
       "    </tr>\n",
       "  </tbody>\n",
       "</table>\n"
      ],
      "text/plain": [
       "<pandas.io.formats.style.Styler at 0x7e177f0e3160>"
      ]
     },
     "metadata": {},
     "output_type": "display_data"
    },
    {
     "data": {
      "text/html": [],
      "text/plain": [
       "<IPython.core.display.HTML object>"
      ]
     },
     "metadata": {},
     "output_type": "display_data"
    },
    {
     "data": {
      "text/html": [
       "<style type=\"text/css\">\n",
       "#T_545f0 th {\n",
       "  text-align: left;\n",
       "}\n",
       "#T_545f0_row0_col0, #T_545f0_row1_col0, #T_545f0_row1_col1, #T_545f0_row1_col2, #T_545f0_row1_col3, #T_545f0_row1_col4, #T_545f0_row1_col5, #T_545f0_row1_col6, #T_545f0_row1_col7, #T_545f0_row2_col0, #T_545f0_row2_col1, #T_545f0_row2_col2, #T_545f0_row2_col3, #T_545f0_row2_col4, #T_545f0_row2_col5, #T_545f0_row2_col6, #T_545f0_row2_col7, #T_545f0_row3_col0, #T_545f0_row3_col1, #T_545f0_row3_col2, #T_545f0_row3_col3, #T_545f0_row3_col4, #T_545f0_row3_col5, #T_545f0_row3_col6, #T_545f0_row3_col7, #T_545f0_row4_col0, #T_545f0_row4_col1, #T_545f0_row4_col2, #T_545f0_row4_col3, #T_545f0_row4_col4, #T_545f0_row4_col5, #T_545f0_row4_col6, #T_545f0_row4_col7 {\n",
       "  text-align: left;\n",
       "}\n",
       "#T_545f0_row0_col1, #T_545f0_row0_col2, #T_545f0_row0_col3, #T_545f0_row0_col4, #T_545f0_row0_col5, #T_545f0_row0_col6, #T_545f0_row0_col7 {\n",
       "  text-align: left;\n",
       "  background-color: yellow;\n",
       "}\n",
       "#T_545f0_row0_col8, #T_545f0_row2_col8, #T_545f0_row3_col8, #T_545f0_row4_col8 {\n",
       "  text-align: left;\n",
       "  background-color: lightgrey;\n",
       "}\n",
       "#T_545f0_row1_col8 {\n",
       "  text-align: left;\n",
       "  background-color: yellow;\n",
       "  background-color: lightgrey;\n",
       "}\n",
       "</style>\n",
       "<table id=\"T_545f0\">\n",
       "  <thead>\n",
       "    <tr>\n",
       "      <th class=\"blank level0\" >&nbsp;</th>\n",
       "      <th id=\"T_545f0_level0_col0\" class=\"col_heading level0 col0\" >Model</th>\n",
       "      <th id=\"T_545f0_level0_col1\" class=\"col_heading level0 col1\" >Accuracy</th>\n",
       "      <th id=\"T_545f0_level0_col2\" class=\"col_heading level0 col2\" >AUC</th>\n",
       "      <th id=\"T_545f0_level0_col3\" class=\"col_heading level0 col3\" >Recall</th>\n",
       "      <th id=\"T_545f0_level0_col4\" class=\"col_heading level0 col4\" >Prec.</th>\n",
       "      <th id=\"T_545f0_level0_col5\" class=\"col_heading level0 col5\" >F1</th>\n",
       "      <th id=\"T_545f0_level0_col6\" class=\"col_heading level0 col6\" >Kappa</th>\n",
       "      <th id=\"T_545f0_level0_col7\" class=\"col_heading level0 col7\" >MCC</th>\n",
       "      <th id=\"T_545f0_level0_col8\" class=\"col_heading level0 col8\" >TT (Sec)</th>\n",
       "    </tr>\n",
       "  </thead>\n",
       "  <tbody>\n",
       "    <tr>\n",
       "      <th id=\"T_545f0_level0_row0\" class=\"row_heading level0 row0\" >rf</th>\n",
       "      <td id=\"T_545f0_row0_col0\" class=\"data row0 col0\" >Random Forest Classifier</td>\n",
       "      <td id=\"T_545f0_row0_col1\" class=\"data row0 col1\" >0.8927</td>\n",
       "      <td id=\"T_545f0_row0_col2\" class=\"data row0 col2\" >0.9444</td>\n",
       "      <td id=\"T_545f0_row0_col3\" class=\"data row0 col3\" >0.7822</td>\n",
       "      <td id=\"T_545f0_row0_col4\" class=\"data row0 col4\" >0.8623</td>\n",
       "      <td id=\"T_545f0_row0_col5\" class=\"data row0 col5\" >0.8202</td>\n",
       "      <td id=\"T_545f0_row0_col6\" class=\"data row0 col6\" >0.7441</td>\n",
       "      <td id=\"T_545f0_row0_col7\" class=\"data row0 col7\" >0.7459</td>\n",
       "      <td id=\"T_545f0_row0_col8\" class=\"data row0 col8\" >1.8220</td>\n",
       "    </tr>\n",
       "    <tr>\n",
       "      <th id=\"T_545f0_level0_row1\" class=\"row_heading level0 row1\" >dt</th>\n",
       "      <td id=\"T_545f0_row1_col0\" class=\"data row1 col0\" >Decision Tree Classifier</td>\n",
       "      <td id=\"T_545f0_row1_col1\" class=\"data row1 col1\" >0.8590</td>\n",
       "      <td id=\"T_545f0_row1_col2\" class=\"data row1 col2\" >0.8405</td>\n",
       "      <td id=\"T_545f0_row1_col3\" class=\"data row1 col3\" >0.7814</td>\n",
       "      <td id=\"T_545f0_row1_col4\" class=\"data row1 col4\" >0.7714</td>\n",
       "      <td id=\"T_545f0_row1_col5\" class=\"data row1 col5\" >0.7762</td>\n",
       "      <td id=\"T_545f0_row1_col6\" class=\"data row1 col6\" >0.6733</td>\n",
       "      <td id=\"T_545f0_row1_col7\" class=\"data row1 col7\" >0.6734</td>\n",
       "      <td id=\"T_545f0_row1_col8\" class=\"data row1 col8\" >0.1000</td>\n",
       "    </tr>\n",
       "    <tr>\n",
       "      <th id=\"T_545f0_level0_row2\" class=\"row_heading level0 row2\" >knn</th>\n",
       "      <td id=\"T_545f0_row2_col0\" class=\"data row2 col0\" >K Neighbors Classifier</td>\n",
       "      <td id=\"T_545f0_row2_col1\" class=\"data row2 col1\" >0.8341</td>\n",
       "      <td id=\"T_545f0_row2_col2\" class=\"data row2 col2\" >0.8802</td>\n",
       "      <td id=\"T_545f0_row2_col3\" class=\"data row2 col3\" >0.7083</td>\n",
       "      <td id=\"T_545f0_row2_col4\" class=\"data row2 col4\" >0.7483</td>\n",
       "      <td id=\"T_545f0_row2_col5\" class=\"data row2 col5\" >0.7277</td>\n",
       "      <td id=\"T_545f0_row2_col6\" class=\"data row2 col6\" >0.6086</td>\n",
       "      <td id=\"T_545f0_row2_col7\" class=\"data row2 col7\" >0.6091</td>\n",
       "      <td id=\"T_545f0_row2_col8\" class=\"data row2 col8\" >0.3840</td>\n",
       "    </tr>\n",
       "    <tr>\n",
       "      <th id=\"T_545f0_level0_row3\" class=\"row_heading level0 row3\" >lr</th>\n",
       "      <td id=\"T_545f0_row3_col0\" class=\"data row3 col0\" >Logistic Regression</td>\n",
       "      <td id=\"T_545f0_row3_col1\" class=\"data row3 col1\" >0.8076</td>\n",
       "      <td id=\"T_545f0_row3_col2\" class=\"data row3 col2\" >0.8559</td>\n",
       "      <td id=\"T_545f0_row3_col3\" class=\"data row3 col3\" >0.6078</td>\n",
       "      <td id=\"T_545f0_row3_col4\" class=\"data row3 col4\" >0.7321</td>\n",
       "      <td id=\"T_545f0_row3_col5\" class=\"data row3 col5\" >0.6640</td>\n",
       "      <td id=\"T_545f0_row3_col6\" class=\"data row3 col6\" >0.5309</td>\n",
       "      <td id=\"T_545f0_row3_col7\" class=\"data row3 col7\" >0.5355</td>\n",
       "      <td id=\"T_545f0_row3_col8\" class=\"data row3 col8\" >0.2160</td>\n",
       "    </tr>\n",
       "    <tr>\n",
       "      <th id=\"T_545f0_level0_row4\" class=\"row_heading level0 row4\" >svm</th>\n",
       "      <td id=\"T_545f0_row4_col0\" class=\"data row4 col0\" >SVM - Linear Kernel</td>\n",
       "      <td id=\"T_545f0_row4_col1\" class=\"data row4 col1\" >0.8021</td>\n",
       "      <td id=\"T_545f0_row4_col2\" class=\"data row4 col2\" >0.0000</td>\n",
       "      <td id=\"T_545f0_row4_col3\" class=\"data row4 col3\" >0.6019</td>\n",
       "      <td id=\"T_545f0_row4_col4\" class=\"data row4 col4\" >0.7207</td>\n",
       "      <td id=\"T_545f0_row4_col5\" class=\"data row4 col5\" >0.6544</td>\n",
       "      <td id=\"T_545f0_row4_col6\" class=\"data row4 col6\" >0.5176</td>\n",
       "      <td id=\"T_545f0_row4_col7\" class=\"data row4 col7\" >0.5227</td>\n",
       "      <td id=\"T_545f0_row4_col8\" class=\"data row4 col8\" >0.1450</td>\n",
       "    </tr>\n",
       "  </tbody>\n",
       "</table>\n"
      ],
      "text/plain": [
       "<pandas.io.formats.style.Styler at 0x7e17b9060b20>"
      ]
     },
     "metadata": {},
     "output_type": "display_data"
    },
    {
     "data": {
      "application/vnd.jupyter.widget-view+json": {
       "model_id": "fc618f6c019f4cd0a11ba74b8ed14826",
       "version_major": 2,
       "version_minor": 0
      },
      "text/plain": [
       "Processing:   0%|          | 0/25 [00:00<?, ?it/s]"
      ]
     },
     "metadata": {},
     "output_type": "display_data"
    },
    {
     "data": {
      "text/html": [
       "<style>#sk-container-id-1 {color: black;background-color: white;}#sk-container-id-1 pre{padding: 0;}#sk-container-id-1 div.sk-toggleable {background-color: white;}#sk-container-id-1 label.sk-toggleable__label {cursor: pointer;display: block;width: 100%;margin-bottom: 0;padding: 0.3em;box-sizing: border-box;text-align: center;}#sk-container-id-1 label.sk-toggleable__label-arrow:before {content: \"▸\";float: left;margin-right: 0.25em;color: #696969;}#sk-container-id-1 label.sk-toggleable__label-arrow:hover:before {color: black;}#sk-container-id-1 div.sk-estimator:hover label.sk-toggleable__label-arrow:before {color: black;}#sk-container-id-1 div.sk-toggleable__content {max-height: 0;max-width: 0;overflow: hidden;text-align: left;background-color: #f0f8ff;}#sk-container-id-1 div.sk-toggleable__content pre {margin: 0.2em;color: black;border-radius: 0.25em;background-color: #f0f8ff;}#sk-container-id-1 input.sk-toggleable__control:checked~div.sk-toggleable__content {max-height: 200px;max-width: 100%;overflow: auto;}#sk-container-id-1 input.sk-toggleable__control:checked~label.sk-toggleable__label-arrow:before {content: \"▾\";}#sk-container-id-1 div.sk-estimator input.sk-toggleable__control:checked~label.sk-toggleable__label {background-color: #d4ebff;}#sk-container-id-1 div.sk-label input.sk-toggleable__control:checked~label.sk-toggleable__label {background-color: #d4ebff;}#sk-container-id-1 input.sk-hidden--visually {border: 0;clip: rect(1px 1px 1px 1px);clip: rect(1px, 1px, 1px, 1px);height: 1px;margin: -1px;overflow: hidden;padding: 0;position: absolute;width: 1px;}#sk-container-id-1 div.sk-estimator {font-family: monospace;background-color: #f0f8ff;border: 1px dotted black;border-radius: 0.25em;box-sizing: border-box;margin-bottom: 0.5em;}#sk-container-id-1 div.sk-estimator:hover {background-color: #d4ebff;}#sk-container-id-1 div.sk-parallel-item::after {content: \"\";width: 100%;border-bottom: 1px solid gray;flex-grow: 1;}#sk-container-id-1 div.sk-label:hover label.sk-toggleable__label {background-color: #d4ebff;}#sk-container-id-1 div.sk-serial::before {content: \"\";position: absolute;border-left: 1px solid gray;box-sizing: border-box;top: 0;bottom: 0;left: 50%;z-index: 0;}#sk-container-id-1 div.sk-serial {display: flex;flex-direction: column;align-items: center;background-color: white;padding-right: 0.2em;padding-left: 0.2em;position: relative;}#sk-container-id-1 div.sk-item {position: relative;z-index: 1;}#sk-container-id-1 div.sk-parallel {display: flex;align-items: stretch;justify-content: center;background-color: white;position: relative;}#sk-container-id-1 div.sk-item::before, #sk-container-id-1 div.sk-parallel-item::before {content: \"\";position: absolute;border-left: 1px solid gray;box-sizing: border-box;top: 0;bottom: 0;left: 50%;z-index: -1;}#sk-container-id-1 div.sk-parallel-item {display: flex;flex-direction: column;z-index: 1;position: relative;background-color: white;}#sk-container-id-1 div.sk-parallel-item:first-child::after {align-self: flex-end;width: 50%;}#sk-container-id-1 div.sk-parallel-item:last-child::after {align-self: flex-start;width: 50%;}#sk-container-id-1 div.sk-parallel-item:only-child::after {width: 0;}#sk-container-id-1 div.sk-dashed-wrapped {border: 1px dashed gray;margin: 0 0.4em 0.5em 0.4em;box-sizing: border-box;padding-bottom: 0.4em;background-color: white;}#sk-container-id-1 div.sk-label label {font-family: monospace;font-weight: bold;display: inline-block;line-height: 1.2em;}#sk-container-id-1 div.sk-label-container {text-align: center;}#sk-container-id-1 div.sk-container {/* jupyter's `normalize.less` sets `[hidden] { display: none; }` but bootstrap.min.css set `[hidden] { display: none !important; }` so we also need the `!important` here to be able to override the default hidden behavior on the sphinx rendered scikit-learn.org. See: https://github.com/scikit-learn/scikit-learn/issues/21755 */display: inline-block !important;position: relative;}#sk-container-id-1 div.sk-text-repr-fallback {display: none;}</style><div id=\"sk-container-id-1\" class=\"sk-top-container\"><div class=\"sk-text-repr-fallback\"><pre>RandomForestClassifier(bootstrap=True, ccp_alpha=0.0, class_weight=None,\n",
       "                       criterion=&#x27;gini&#x27;, max_depth=None, max_features=&#x27;sqrt&#x27;,\n",
       "                       max_leaf_nodes=None, max_samples=None,\n",
       "                       min_impurity_decrease=0.0, min_samples_leaf=1,\n",
       "                       min_samples_split=2, min_weight_fraction_leaf=0.0,\n",
       "                       n_estimators=100, n_jobs=-1, oob_score=False,\n",
       "                       random_state=8389, verbose=0, warm_start=False)</pre><b>In a Jupyter environment, please rerun this cell to show the HTML representation or trust the notebook. <br />On GitHub, the HTML representation is unable to render, please try loading this page with nbviewer.org.</b></div><div class=\"sk-container\" hidden><div class=\"sk-item\"><div class=\"sk-estimator sk-toggleable\"><input class=\"sk-toggleable__control sk-hidden--visually\" id=\"sk-estimator-id-1\" type=\"checkbox\" checked><label for=\"sk-estimator-id-1\" class=\"sk-toggleable__label sk-toggleable__label-arrow\">RandomForestClassifier</label><div class=\"sk-toggleable__content\"><pre>RandomForestClassifier(bootstrap=True, ccp_alpha=0.0, class_weight=None,\n",
       "                       criterion=&#x27;gini&#x27;, max_depth=None, max_features=&#x27;sqrt&#x27;,\n",
       "                       max_leaf_nodes=None, max_samples=None,\n",
       "                       min_impurity_decrease=0.0, min_samples_leaf=1,\n",
       "                       min_samples_split=2, min_weight_fraction_leaf=0.0,\n",
       "                       n_estimators=100, n_jobs=-1, oob_score=False,\n",
       "                       random_state=8389, verbose=0, warm_start=False)</pre></div></div></div></div></div>"
      ],
      "text/plain": [
       "RandomForestClassifier(bootstrap=True, ccp_alpha=0.0, class_weight=None,\n",
       "                       criterion='gini', max_depth=None, max_features='sqrt',\n",
       "                       max_leaf_nodes=None, max_samples=None,\n",
       "                       min_impurity_decrease=0.0, min_samples_leaf=1,\n",
       "                       min_samples_split=2, min_weight_fraction_leaf=0.0,\n",
       "                       n_estimators=100, n_jobs=-1, oob_score=False,\n",
       "                       random_state=8389, verbose=0, warm_start=False)"
      ]
     },
     "execution_count": 43,
     "metadata": {},
     "output_type": "execute_result"
    }
   ],
   "source": [
    "data=pd.DataFrame(X_train,columns=cols)\n",
    "data['target_variable']=y_train.values\n",
    "\n",
    "clf1 = setup(data, target='target_variable',train_size=0.9,preprocess=False,session_id=8389)\n",
    "\n",
    "compare_models(['rf','knn','lr','svm','dt'])\n"
   ]
  },
  {
   "cell_type": "code",
   "execution_count": 44,
   "id": "dae73944",
   "metadata": {
    "execution": {
     "iopub.execute_input": "2023-11-24T17:06:56.210477Z",
     "iopub.status.busy": "2023-11-24T17:06:56.209996Z",
     "iopub.status.idle": "2023-11-24T17:07:24.211772Z",
     "shell.execute_reply": "2023-11-24T17:07:24.210617Z"
    },
    "papermill": {
     "duration": 28.036935,
     "end_time": "2023-11-24T17:07:24.214414",
     "exception": false,
     "start_time": "2023-11-24T17:06:56.177479",
     "status": "completed"
    },
    "tags": []
   },
   "outputs": [
    {
     "name": "stdout",
     "output_type": "stream",
     "text": [
      "RANDOM FOREST MODEL \n",
      "\n"
     ]
    },
    {
     "data": {
      "application/vnd.jupyter.widget-view+json": {
       "model_id": "f5a16c59080a414eac548e275b2f211a",
       "version_major": 2,
       "version_minor": 0
      },
      "text/plain": [
       "interactive(children=(ToggleButtons(description='Plot Type:', icons=('',), options=(('Pipeline Plot', 'pipelin…"
      ]
     },
     "metadata": {},
     "output_type": "display_data"
    },
    {
     "name": "stdout",
     "output_type": "stream",
     "text": [
      " \n",
      " KNN MODEL\n"
     ]
    },
    {
     "data": {
      "application/vnd.jupyter.widget-view+json": {
       "model_id": "1ec4e44e6d434b74b4163447fb630f8e",
       "version_major": 2,
       "version_minor": 0
      },
      "text/plain": [
       "interactive(children=(ToggleButtons(description='Plot Type:', icons=('',), options=(('Pipeline Plot', 'pipelin…"
      ]
     },
     "metadata": {},
     "output_type": "display_data"
    },
    {
     "name": "stdout",
     "output_type": "stream",
     "text": [
      " \n",
      " LOGISTIC REGRESSION MODEL\n"
     ]
    },
    {
     "data": {
      "application/vnd.jupyter.widget-view+json": {
       "model_id": "6091bb125d374def8c7f55fe47ab7be8",
       "version_major": 2,
       "version_minor": 0
      },
      "text/plain": [
       "interactive(children=(ToggleButtons(description='Plot Type:', icons=('',), options=(('Pipeline Plot', 'pipelin…"
      ]
     },
     "metadata": {},
     "output_type": "display_data"
    },
    {
     "name": "stdout",
     "output_type": "stream",
     "text": [
      " \n",
      " SVM MODEL\n"
     ]
    },
    {
     "data": {
      "application/vnd.jupyter.widget-view+json": {
       "model_id": "dcd17598d08a4e269a2b62f78c198ad6",
       "version_major": 2,
       "version_minor": 0
      },
      "text/plain": [
       "interactive(children=(ToggleButtons(description='Plot Type:', icons=('',), options=(('Pipeline Plot', 'pipelin…"
      ]
     },
     "metadata": {},
     "output_type": "display_data"
    },
    {
     "name": "stdout",
     "output_type": "stream",
     "text": [
      " \n",
      " DECISION TREE MODEL\n"
     ]
    },
    {
     "data": {
      "application/vnd.jupyter.widget-view+json": {
       "model_id": "66ece9d1de04429fb506206459da2f07",
       "version_major": 2,
       "version_minor": 0
      },
      "text/plain": [
       "interactive(children=(ToggleButtons(description='Plot Type:', icons=('',), options=(('Pipeline Plot', 'pipelin…"
      ]
     },
     "metadata": {},
     "output_type": "display_data"
    }
   ],
   "source": [
    "# Create models for multiple algorithms\n",
    "rf_model = create_model('rf', verbose=False)\n",
    "knn_model = create_model('knn', verbose=False)\n",
    "lr_model = create_model('lr', verbose=False)\n",
    "svm_model = create_model('svm', verbose=False)\n",
    "dt_model = create_model('dt', verbose=False)\n",
    "\n",
    "# Evaluate the models\n",
    "print ('RANDOM FOREST MODEL \\n')\n",
    "evaluate_model(rf_model)\n",
    "print (' \\n KNN MODEL')\n",
    "evaluate_model(knn_model)\n",
    "print (' \\n LOGISTIC REGRESSION MODEL')\n",
    "evaluate_model(lr_model)\n",
    "print (' \\n SVM MODEL')\n",
    "evaluate_model(svm_model)\n",
    "print (' \\n DECISION TREE MODEL')\n",
    "evaluate_model(dt_model)"
   ]
  },
  {
   "cell_type": "markdown",
   "id": "3a2d7dc7",
   "metadata": {
    "papermill": {
     "duration": 0.031335,
     "end_time": "2023-11-24T17:07:24.281894",
     "exception": false,
     "start_time": "2023-11-24T17:07:24.250559",
     "status": "completed"
    },
    "tags": []
   },
   "source": [
    "#### *IT LOOKS LIKE WE GOT A WINNER WHICH IS RANDOM FOREST CLASSIFIER LETS TRY TO MAKE IT BETTER*"
   ]
  },
  {
   "cell_type": "markdown",
   "id": "1dcc91f4",
   "metadata": {
    "papermill": {
     "duration": 0.033797,
     "end_time": "2023-11-24T17:07:24.347086",
     "exception": false,
     "start_time": "2023-11-24T17:07:24.313289",
     "status": "completed"
    },
    "tags": []
   },
   "source": [
    "## *HYPER PARAMETER OPTIMIZATION*"
   ]
  },
  {
   "cell_type": "markdown",
   "id": "8217bfdb",
   "metadata": {
    "papermill": {
     "duration": 0.031865,
     "end_time": "2023-11-24T17:07:24.411386",
     "exception": false,
     "start_time": "2023-11-24T17:07:24.379521",
     "status": "completed"
    },
    "tags": []
   },
   "source": [
    "##### FROM ABOVE COMPARISON WE FOUND THAT RANDOM FOREST CLASSIFIER IS THE BEST MODEL FOR THIS DATA SO I WIIL TRY TO MAKE IT BETTER USING PYCARET TUNE FUNCTION WHICH I WILL CUSTOMIZE IT TO WORK LIKE GRID SEARCH"
   ]
  },
  {
   "cell_type": "code",
   "execution_count": 45,
   "id": "5cf6ffb4",
   "metadata": {
    "execution": {
     "iopub.execute_input": "2023-11-24T17:07:24.476224Z",
     "iopub.status.busy": "2023-11-24T17:07:24.475405Z",
     "iopub.status.idle": "2023-11-24T17:15:16.693682Z",
     "shell.execute_reply": "2023-11-24T17:15:16.692402Z"
    },
    "papermill": {
     "duration": 472.254173,
     "end_time": "2023-11-24T17:15:16.696650",
     "exception": false,
     "start_time": "2023-11-24T17:07:24.442477",
     "status": "completed"
    },
    "tags": []
   },
   "outputs": [],
   "source": [
    "param_grid = {\"n_estimators\" : [100,120,270, 400, 500],\n",
    "              \"max_depth\": [20, 25, 30]\n",
    "             }\n",
    "tuned_model=tune_model(rf_model,custom_grid=param_grid,verbose=False)\n"
   ]
  },
  {
   "cell_type": "markdown",
   "id": "810100cc",
   "metadata": {
    "papermill": {
     "duration": 0.032327,
     "end_time": "2023-11-24T17:15:16.762312",
     "exception": false,
     "start_time": "2023-11-24T17:15:16.729985",
     "status": "completed"
    },
    "tags": []
   },
   "source": [
    "#### *CHECK PARAMETERS AND EVALUATE THE MODEL*"
   ]
  },
  {
   "cell_type": "code",
   "execution_count": 46,
   "id": "568915e3",
   "metadata": {
    "execution": {
     "iopub.execute_input": "2023-11-24T17:15:16.827725Z",
     "iopub.status.busy": "2023-11-24T17:15:16.827255Z",
     "iopub.status.idle": "2023-11-24T17:15:16.836452Z",
     "shell.execute_reply": "2023-11-24T17:15:16.835144Z"
    },
    "papermill": {
     "duration": 0.044133,
     "end_time": "2023-11-24T17:15:16.838703",
     "exception": false,
     "start_time": "2023-11-24T17:15:16.794570",
     "status": "completed"
    },
    "tags": []
   },
   "outputs": [
    {
     "data": {
      "text/html": [
       "<style>#sk-container-id-2 {color: black;background-color: white;}#sk-container-id-2 pre{padding: 0;}#sk-container-id-2 div.sk-toggleable {background-color: white;}#sk-container-id-2 label.sk-toggleable__label {cursor: pointer;display: block;width: 100%;margin-bottom: 0;padding: 0.3em;box-sizing: border-box;text-align: center;}#sk-container-id-2 label.sk-toggleable__label-arrow:before {content: \"▸\";float: left;margin-right: 0.25em;color: #696969;}#sk-container-id-2 label.sk-toggleable__label-arrow:hover:before {color: black;}#sk-container-id-2 div.sk-estimator:hover label.sk-toggleable__label-arrow:before {color: black;}#sk-container-id-2 div.sk-toggleable__content {max-height: 0;max-width: 0;overflow: hidden;text-align: left;background-color: #f0f8ff;}#sk-container-id-2 div.sk-toggleable__content pre {margin: 0.2em;color: black;border-radius: 0.25em;background-color: #f0f8ff;}#sk-container-id-2 input.sk-toggleable__control:checked~div.sk-toggleable__content {max-height: 200px;max-width: 100%;overflow: auto;}#sk-container-id-2 input.sk-toggleable__control:checked~label.sk-toggleable__label-arrow:before {content: \"▾\";}#sk-container-id-2 div.sk-estimator input.sk-toggleable__control:checked~label.sk-toggleable__label {background-color: #d4ebff;}#sk-container-id-2 div.sk-label input.sk-toggleable__control:checked~label.sk-toggleable__label {background-color: #d4ebff;}#sk-container-id-2 input.sk-hidden--visually {border: 0;clip: rect(1px 1px 1px 1px);clip: rect(1px, 1px, 1px, 1px);height: 1px;margin: -1px;overflow: hidden;padding: 0;position: absolute;width: 1px;}#sk-container-id-2 div.sk-estimator {font-family: monospace;background-color: #f0f8ff;border: 1px dotted black;border-radius: 0.25em;box-sizing: border-box;margin-bottom: 0.5em;}#sk-container-id-2 div.sk-estimator:hover {background-color: #d4ebff;}#sk-container-id-2 div.sk-parallel-item::after {content: \"\";width: 100%;border-bottom: 1px solid gray;flex-grow: 1;}#sk-container-id-2 div.sk-label:hover label.sk-toggleable__label {background-color: #d4ebff;}#sk-container-id-2 div.sk-serial::before {content: \"\";position: absolute;border-left: 1px solid gray;box-sizing: border-box;top: 0;bottom: 0;left: 50%;z-index: 0;}#sk-container-id-2 div.sk-serial {display: flex;flex-direction: column;align-items: center;background-color: white;padding-right: 0.2em;padding-left: 0.2em;position: relative;}#sk-container-id-2 div.sk-item {position: relative;z-index: 1;}#sk-container-id-2 div.sk-parallel {display: flex;align-items: stretch;justify-content: center;background-color: white;position: relative;}#sk-container-id-2 div.sk-item::before, #sk-container-id-2 div.sk-parallel-item::before {content: \"\";position: absolute;border-left: 1px solid gray;box-sizing: border-box;top: 0;bottom: 0;left: 50%;z-index: -1;}#sk-container-id-2 div.sk-parallel-item {display: flex;flex-direction: column;z-index: 1;position: relative;background-color: white;}#sk-container-id-2 div.sk-parallel-item:first-child::after {align-self: flex-end;width: 50%;}#sk-container-id-2 div.sk-parallel-item:last-child::after {align-self: flex-start;width: 50%;}#sk-container-id-2 div.sk-parallel-item:only-child::after {width: 0;}#sk-container-id-2 div.sk-dashed-wrapped {border: 1px dashed gray;margin: 0 0.4em 0.5em 0.4em;box-sizing: border-box;padding-bottom: 0.4em;background-color: white;}#sk-container-id-2 div.sk-label label {font-family: monospace;font-weight: bold;display: inline-block;line-height: 1.2em;}#sk-container-id-2 div.sk-label-container {text-align: center;}#sk-container-id-2 div.sk-container {/* jupyter's `normalize.less` sets `[hidden] { display: none; }` but bootstrap.min.css set `[hidden] { display: none !important; }` so we also need the `!important` here to be able to override the default hidden behavior on the sphinx rendered scikit-learn.org. See: https://github.com/scikit-learn/scikit-learn/issues/21755 */display: inline-block !important;position: relative;}#sk-container-id-2 div.sk-text-repr-fallback {display: none;}</style><div id=\"sk-container-id-2\" class=\"sk-top-container\"><div class=\"sk-text-repr-fallback\"><pre>RandomForestClassifier(bootstrap=True, ccp_alpha=0.0, class_weight=None,\n",
       "                       criterion=&#x27;gini&#x27;, max_depth=25, max_features=&#x27;sqrt&#x27;,\n",
       "                       max_leaf_nodes=None, max_samples=None,\n",
       "                       min_impurity_decrease=0.0, min_samples_leaf=1,\n",
       "                       min_samples_split=2, min_weight_fraction_leaf=0.0,\n",
       "                       n_estimators=500, n_jobs=-1, oob_score=False,\n",
       "                       random_state=8389, verbose=0, warm_start=False)</pre><b>In a Jupyter environment, please rerun this cell to show the HTML representation or trust the notebook. <br />On GitHub, the HTML representation is unable to render, please try loading this page with nbviewer.org.</b></div><div class=\"sk-container\" hidden><div class=\"sk-item\"><div class=\"sk-estimator sk-toggleable\"><input class=\"sk-toggleable__control sk-hidden--visually\" id=\"sk-estimator-id-2\" type=\"checkbox\" checked><label for=\"sk-estimator-id-2\" class=\"sk-toggleable__label sk-toggleable__label-arrow\">RandomForestClassifier</label><div class=\"sk-toggleable__content\"><pre>RandomForestClassifier(bootstrap=True, ccp_alpha=0.0, class_weight=None,\n",
       "                       criterion=&#x27;gini&#x27;, max_depth=25, max_features=&#x27;sqrt&#x27;,\n",
       "                       max_leaf_nodes=None, max_samples=None,\n",
       "                       min_impurity_decrease=0.0, min_samples_leaf=1,\n",
       "                       min_samples_split=2, min_weight_fraction_leaf=0.0,\n",
       "                       n_estimators=500, n_jobs=-1, oob_score=False,\n",
       "                       random_state=8389, verbose=0, warm_start=False)</pre></div></div></div></div></div>"
      ],
      "text/plain": [
       "RandomForestClassifier(bootstrap=True, ccp_alpha=0.0, class_weight=None,\n",
       "                       criterion='gini', max_depth=25, max_features='sqrt',\n",
       "                       max_leaf_nodes=None, max_samples=None,\n",
       "                       min_impurity_decrease=0.0, min_samples_leaf=1,\n",
       "                       min_samples_split=2, min_weight_fraction_leaf=0.0,\n",
       "                       n_estimators=500, n_jobs=-1, oob_score=False,\n",
       "                       random_state=8389, verbose=0, warm_start=False)"
      ]
     },
     "execution_count": 46,
     "metadata": {},
     "output_type": "execute_result"
    }
   ],
   "source": [
    "tuned_model"
   ]
  },
  {
   "cell_type": "code",
   "execution_count": 47,
   "id": "93c9f8c2",
   "metadata": {
    "execution": {
     "iopub.execute_input": "2023-11-24T17:15:16.903429Z",
     "iopub.status.busy": "2023-11-24T17:15:16.902943Z",
     "iopub.status.idle": "2023-11-24T17:15:17.933474Z",
     "shell.execute_reply": "2023-11-24T17:15:17.932158Z"
    },
    "papermill": {
     "duration": 1.066501,
     "end_time": "2023-11-24T17:15:17.936871",
     "exception": false,
     "start_time": "2023-11-24T17:15:16.870370",
     "status": "completed"
    },
    "tags": []
   },
   "outputs": [
    {
     "data": {
      "application/vnd.jupyter.widget-view+json": {
       "model_id": "e7b7ebf00ddc4e4493a13c8c8149409a",
       "version_major": 2,
       "version_minor": 0
      },
      "text/plain": [
       "interactive(children=(ToggleButtons(description='Plot Type:', icons=('',), options=(('Pipeline Plot', 'pipelin…"
      ]
     },
     "metadata": {},
     "output_type": "display_data"
    }
   ],
   "source": [
    "evaluate_model(tuned_model)"
   ]
  },
  {
   "cell_type": "markdown",
   "id": "488c5b5d",
   "metadata": {
    "papermill": {
     "duration": 0.031709,
     "end_time": "2023-11-24T17:15:18.000902",
     "exception": false,
     "start_time": "2023-11-24T17:15:17.969193",
     "status": "completed"
    },
    "tags": []
   },
   "source": [
    "#### *TEST THE MODEL ON TEST SET AND EVALUATE* "
   ]
  },
  {
   "cell_type": "code",
   "execution_count": 48,
   "id": "426ec8cd",
   "metadata": {
    "execution": {
     "iopub.execute_input": "2023-11-24T17:15:18.068847Z",
     "iopub.status.busy": "2023-11-24T17:15:18.068190Z",
     "iopub.status.idle": "2023-11-24T17:15:18.809331Z",
     "shell.execute_reply": "2023-11-24T17:15:18.808094Z"
    },
    "papermill": {
     "duration": 0.777701,
     "end_time": "2023-11-24T17:15:18.811897",
     "exception": false,
     "start_time": "2023-11-24T17:15:18.034196",
     "status": "completed"
    },
    "tags": []
   },
   "outputs": [
    {
     "name": "stdout",
     "output_type": "stream",
     "text": [
      "              precision    recall  f1-score   support\n",
      "\n",
      "           0       0.94      0.90      0.92      4794\n",
      "           1       0.78      0.86      0.82      1875\n",
      "\n",
      "    accuracy                           0.89      6669\n",
      "   macro avg       0.86      0.88      0.87      6669\n",
      "weighted avg       0.90      0.89      0.89      6669\n",
      "\n"
     ]
    },
    {
     "data": {
      "image/png": "[encoded data removed]",
      "text/plain": [
       "<Figure size 800x550 with 2 Axes>"
      ]
     },
     "metadata": {},
     "output_type": "display_data"
    }
   ],
   "source": [
    "y_pred=tuned_model.predict(X_test)\n",
    "print(classification_report(y_pred,y_test))\n",
    "sns.heatmap(confusion_matrix(y_test, y_pred), annot= True, fmt=\".2f\")\n",
    "\n",
    "plt.xlabel(\"Prediction\")\n",
    "plt.ylabel(\"True\")\n",
    "\n",
    "plt.show()"
   ]
  },
  {
   "cell_type": "markdown",
   "id": "34c69430",
   "metadata": {
    "papermill": {
     "duration": 0.031948,
     "end_time": "2023-11-24T17:15:18.875518",
     "exception": false,
     "start_time": "2023-11-24T17:15:18.843570",
     "status": "completed"
    },
    "tags": []
   },
   "source": [
    "#### *CREATING THE MODEL USUAL WAY TO SAVE WITH PICKLE FOR DEPLOYMENT* "
   ]
  },
  {
   "cell_type": "code",
   "execution_count": 49,
   "id": "a3406588",
   "metadata": {
    "execution": {
     "iopub.execute_input": "2023-11-24T17:15:18.942361Z",
     "iopub.status.busy": "2023-11-24T17:15:18.941140Z",
     "iopub.status.idle": "2023-11-24T17:15:27.095613Z",
     "shell.execute_reply": "2023-11-24T17:15:27.094679Z"
    },
    "papermill": {
     "duration": 8.190848,
     "end_time": "2023-11-24T17:15:27.098045",
     "exception": false,
     "start_time": "2023-11-24T17:15:18.907197",
     "status": "completed"
    },
    "tags": []
   },
   "outputs": [
    {
     "name": "stdout",
     "output_type": "stream",
     "text": [
      "              precision    recall  f1-score   support\n",
      "\n",
      "           0       0.94      0.91      0.92      4781\n",
      "           1       0.78      0.86      0.82      1888\n",
      "\n",
      "    accuracy                           0.89      6669\n",
      "   macro avg       0.86      0.88      0.87      6669\n",
      "weighted avg       0.90      0.89      0.90      6669\n",
      "\n"
     ]
    },
    {
     "data": {
      "image/png": "[encoded data removed]",
      "text/plain": [
       "<Figure size 800x550 with 2 Axes>"
      ]
     },
     "metadata": {},
     "output_type": "display_data"
    }
   ],
   "source": [
    "rf_model = RandomForestClassifier(bootstrap=True, ccp_alpha=0.0, class_weight=None,\n",
    "                       criterion='gini', max_depth=25, max_features='sqrt',\n",
    "                       max_leaf_nodes=None, max_samples=None,\n",
    "                       min_impurity_decrease=0.0, min_samples_leaf=1,\n",
    "                       min_samples_split=2, min_weight_fraction_leaf=0.0,\n",
    "                       n_estimators=500, n_jobs=-1, oob_score=False,\n",
    "                       random_state=8389, verbose=0, warm_start=False)\n",
    "rf_model.fit(X_train, y_train)\n",
    "y_pred=rf_model.predict(X_test)\n",
    "print(classification_report(y_pred,y_test))\n",
    "sns.heatmap(confusion_matrix(y_test, y_pred), annot= True, fmt=\".2f\")\n",
    "\n",
    "plt.xlabel(\"Prediction\")\n",
    "plt.ylabel(\"True\")\n",
    "\n",
    "plt.show()"
   ]
  },
  {
   "cell_type": "code",
   "execution_count": 50,
   "id": "5390bc36",
   "metadata": {
    "execution": {
     "iopub.execute_input": "2023-11-24T17:15:27.165542Z",
     "iopub.status.busy": "2023-11-24T17:15:27.164700Z",
     "iopub.status.idle": "2023-11-24T17:15:27.169538Z",
     "shell.execute_reply": "2023-11-24T17:15:27.168805Z"
    },
    "papermill": {
     "duration": 0.041246,
     "end_time": "2023-11-24T17:15:27.171754",
     "exception": false,
     "start_time": "2023-11-24T17:15:27.130508",
     "status": "completed"
    },
    "tags": []
   },
   "outputs": [],
   "source": [
    "# with open('/kaggle/working/random_forest_model_pickle.pkl', 'wb') as model_file:\n",
    "#     pickle.dump(rf_model ,model_file)"
   ]
  }
 ],
 "metadata": {
  "kaggle": {
   "accelerator": "none",
   "dataSources": [
    {
     "datasetId": 3957811,
     "sourceId": 6889592,
     "sourceType": "datasetVersion"
    }
   ],
   "dockerImageVersionId": 30587,
   "isGpuEnabled": false,
   "isInternetEnabled": true,
   "language": "python",
   "sourceType": "notebook"
  },
  "kernelspec": {
   "display_name": "Python 3",
   "language": "python",
   "name": "python3"
  },
  "language_info": {
   "codemirror_mode": {
    "name": "ipython",
    "version": 3
   },
   "file_extension": ".py",
   "mimetype": "text/x-python",
   "name": "python",
   "nbconvert_exporter": "python",
   "pygments_lexer": "ipython3",
   "version": "3.10.12"
  },
  "papermill": {
   "default_parameters": {},
   "duration": 649.422257,
   "end_time": "2023-11-24T17:15:29.928194",
   "environment_variables": {},
   "exception": null,
   "input_path": "__notebook__.ipynb",
   "output_path": "__notebook__.ipynb",
   "parameters": {},
   "start_time": "2023-11-24T17:04:40.505937",
   "version": "2.4.0"
  },
  "widgets": {
   "application/vnd.jupyter.widget-state+json": {
    "state": {
     "02f9de0de70643adb055ecb5f13f8408": {
      "model_module": "@jupyter-widgets/base",
      "model_module_version": "1.2.0",
      "model_name": "LayoutModel",
      "state": {
       "_model_module": "@jupyter-widgets/base",
       "_model_module_version": "1.2.0",
       "_model_name": "LayoutModel",
       "_view_count": null,
       "_view_module": "@jupyter-widgets/base",
       "_view_module_version": "1.2.0",
       "_view_name": "LayoutView",
       "align_content": null,
       "align_items": null,
       "align_self": null,
       "border": null,
       "bottom": null,
       "display": null,
       "flex": null,
       "flex_flow": null,
       "grid_area": null,
       "grid_auto_columns": null,
       "grid_auto_flow": null,
       "grid_auto_rows": null,
       "grid_column": null,
       "grid_gap": null,
       "grid_row": null,
       "grid_template_areas": null,
       "grid_template_columns": null,
       "grid_template_rows": null,
       "height": null,
       "justify_content": null,
       "justify_items": null,
       "left": null,
       "margin": null,
       "max_height": null,
       "max_width": null,
       "min_height": null,
       "min_width": null,
       "object_fit": null,
       "object_position": null,
       "order": null,
       "overflow": null,
       "overflow_x": null,
       "overflow_y": null,
       "padding": null,
       "right": null,
       "top": null,
       "visibility": null,
       "width": null
      }
     },
     "049f19768d7d425ca49c474808409c2e": {
      "model_module": "@jupyter-widgets/base",
      "model_module_version": "1.2.0",
      "model_name": "LayoutModel",
      "state": {
       "_model_module": "@jupyter-widgets/base",
       "_model_module_version": "1.2.0",
       "_model_name": "LayoutModel",
       "_view_count": null,
       "_view_module": "@jupyter-widgets/base",
       "_view_module_version": "1.2.0",
       "_view_name": "LayoutView",
       "align_content": null,
       "align_items": null,
       "align_self": null,
       "border": null,
       "bottom": null,
       "display": null,
       "flex": null,
       "flex_flow": null,
       "grid_area": null,
       "grid_auto_columns": null,
       "grid_auto_flow": null,
       "grid_auto_rows": null,
       "grid_column": null,
       "grid_gap": null,
       "grid_row": null,
       "grid_template_areas": null,
       "grid_template_columns": null,
       "grid_template_rows": null,
       "height": null,
       "justify_content": null,
       "justify_items": null,
       "left": null,
       "margin": null,
       "max_height": null,
       "max_width": null,
       "min_height": null,
       "min_width": null,
       "object_fit": null,
       "object_position": null,
       "order": null,
       "overflow": null,
       "overflow_x": null,
       "overflow_y": null,
       "padding": null,
       "right": null,
       "top": null,
       "visibility": null,
       "width": null
      }
     },
     "12ddbeaac78f4b36918876422185e10a": {
      "model_module": "@jupyter-widgets/controls",
      "model_module_version": "1.5.0",
      "model_name": "ToggleButtonsStyleModel",
      "state": {
       "_model_module": "@jupyter-widgets/controls",
       "_model_module_version": "1.5.0",
       "_model_name": "ToggleButtonsStyleModel",
       "_view_count": null,
       "_view_module": "@jupyter-widgets/base",
       "_view_module_version": "1.2.0",
       "_view_name": "StyleView",
       "button_width": "",
       "description_width": "",
       "font_weight": ""
      }
     },
     "182f2138e958460d8967e02514500884": {
      "model_module": "@jupyter-widgets/output",
      "model_module_version": "1.0.0",
      "model_name": "OutputModel",
      "state": {
       "_dom_classes": [],
       "_model_module": "@jupyter-widgets/output",
       "_model_module_version": "1.0.0",
       "_model_name": "OutputModel",
       "_view_count": null,
       "_view_module": "@jupyter-widgets/output",
       "_view_module_version": "1.0.0",
       "_view_name": "OutputView",
       "layout": "IPY_MODEL_c3fb924e132240e3a684a23e1169c16f",
       "msg_id": "",
       "outputs": [
        {
         "data": {
          "image/png": "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",
          "text/plain": "<Figure size 700x600 with 1 Axes>"
         },
         "metadata": {},
         "output_type": "display_data"
        }
       ]
      }
     },
     "1ec4e44e6d434b74b4163447fb630f8e": {
      "model_module": "@jupyter-widgets/controls",
      "model_module_version": "1.5.0",
      "model_name": "VBoxModel",
      "state": {
       "_dom_classes": [
        "widget-interact"
       ],
       "_model_module": "@jupyter-widgets/controls",
       "_model_module_version": "1.5.0",
       "_model_name": "VBoxModel",
       "_view_count": null,
       "_view_module": "@jupyter-widgets/controls",
       "_view_module_version": "1.5.0",
       "_view_name": "VBoxView",
       "box_style": "",
       "children": [
        "IPY_MODEL_8193fb8d874241cc9d7ee26f14d6fd4f",
        "IPY_MODEL_895831451e76430e955b8c0191683f31"
       ],
       "layout": "IPY_MODEL_02f9de0de70643adb055ecb5f13f8408"
      }
     },
     "229641f66d63451d94ed6a3413a1850e": {
      "model_module": "@jupyter-widgets/base",
      "model_module_version": "1.2.0",
      "model_name": "LayoutModel",
      "state": {
       "_model_module": "@jupyter-widgets/base",
       "_model_module_version": "1.2.0",
       "_model_name": "LayoutModel",
       "_view_count": null,
       "_view_module": "@jupyter-widgets/base",
       "_view_module_version": "1.2.0",
       "_view_name": "LayoutView",
       "align_content": null,
       "align_items": null,
       "align_self": null,
       "border": null,
       "bottom": null,
       "display": null,
       "flex": null,
       "flex_flow": null,
       "grid_area": null,
       "grid_auto_columns": null,
       "grid_auto_flow": null,
       "grid_auto_rows": null,
       "grid_column": null,
       "grid_gap": null,
       "grid_row": null,
       "grid_template_areas": null,
       "grid_template_columns": null,
       "grid_template_rows": null,
       "height": null,
       "justify_content": null,
       "justify_items": null,
       "left": null,
       "margin": null,
       "max_height": null,
       "max_width": null,
       "min_height": null,
       "min_width": null,
       "object_fit": null,
       "object_position": null,
       "order": null,
       "overflow": null,
       "overflow_x": null,
       "overflow_y": null,
       "padding": null,
       "right": null,
       "top": null,
       "visibility": null,
       "width": null
      }
     },
     "4125393e22d2474ea0b0e989e6fa8847": {
      "model_module": "@jupyter-widgets/output",
      "model_module_version": "1.0.0",
      "model_name": "OutputModel",
      "state": {
       "_dom_classes": [],
       "_model_module": "@jupyter-widgets/output",
       "_model_module_version": "1.0.0",
       "_model_name": "OutputModel",
       "_view_count": null,
       "_view_module": "@jupyter-widgets/output",
       "_view_module_version": "1.0.0",
       "_view_name": "OutputView",
       "layout": "IPY_MODEL_f60e7665263f42fba5b6c3a5a71313bb",
       "msg_id": "",
       "outputs": [
        {
         "data": {
          "image/png": "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",
          "text/plain": "<Figure size 700x600 with 1 Axes>"
         },
         "metadata": {},
         "output_type": "display_data"
        }
       ]
      }
     },
     "43b3c40dbc514a029c83214a4ba86320": {
      "model_module": "@jupyter-widgets/controls",
      "model_module_version": "1.5.0",
      "model_name": "HTMLModel",
      "state": {
       "_dom_classes": [],
       "_model_module": "@jupyter-widgets/controls",
       "_model_module_version": "1.5.0",
       "_model_name": "HTMLModel",
       "_view_count": null,
       "_view_module": "@jupyter-widgets/controls",
       "_view_module_version": "1.5.0",
       "_view_name": "HTMLView",
       "description": "",
       "description_tooltip": null,
       "layout": "IPY_MODEL_739114293e6d44389d653e63c75be8f6",
       "placeholder": "​",
       "style": "IPY_MODEL_a0df0b000eb4448cb07a0a23c3c27610",
       "value": "Processing: 100%"
      }
     },
     "50c5ba33a9574e40a258482af08193b9": {
      "model_module": "@jupyter-widgets/controls",
      "model_module_version": "1.5.0",
      "model_name": "ToggleButtonsStyleModel",
      "state": {
       "_model_module": "@jupyter-widgets/controls",
       "_model_module_version": "1.5.0",
       "_model_name": "ToggleButtonsStyleModel",
       "_view_count": null,
       "_view_module": "@jupyter-widgets/base",
       "_view_module_version": "1.2.0",
       "_view_name": "StyleView",
       "button_width": "",
       "description_width": "",
       "font_weight": ""
      }
     },
     "54f444b3a66b4974a741c1f6f58a760f": {
      "model_module": "@jupyter-widgets/base",
      "model_module_version": "1.2.0",
      "model_name": "LayoutModel",
      "state": {
       "_model_module": "@jupyter-widgets/base",
       "_model_module_version": "1.2.0",
       "_model_name": "LayoutModel",
       "_view_count": null,
       "_view_module": "@jupyter-widgets/base",
       "_view_module_version": "1.2.0",
       "_view_name": "LayoutView",
       "align_content": null,
       "align_items": null,
       "align_self": null,
       "border": null,
       "bottom": null,
       "display": null,
       "flex": null,
       "flex_flow": null,
       "grid_area": null,
       "grid_auto_columns": null,
       "grid_auto_flow": null,
       "grid_auto_rows": null,
       "grid_column": null,
       "grid_gap": null,
       "grid_row": null,
       "grid_template_areas": null,
       "grid_template_columns": null,
       "grid_template_rows": null,
       "height": null,
       "justify_content": null,
       "justify_items": null,
       "left": null,
       "margin": null,
       "max_height": null,
       "max_width": null,
       "min_height": null,
       "min_width": null,
       "object_fit": null,
       "object_position": null,
       "order": null,
       "overflow": null,
       "overflow_x": null,
       "overflow_y": null,
       "padding": null,
       "right": null,
       "top": null,
       "visibility": null,
       "width": null
      }
     },
     "57ec7be9953b4b368667165435b6b269": {
      "model_module": "@jupyter-widgets/base",
      "model_module_version": "1.2.0",
      "model_name": "LayoutModel",
      "state": {
       "_model_module": "@jupyter-widgets/base",
       "_model_module_version": "1.2.0",
       "_model_name": "LayoutModel",
       "_view_count": null,
       "_view_module": "@jupyter-widgets/base",
       "_view_module_version": "1.2.0",
       "_view_name": "LayoutView",
       "align_content": null,
       "align_items": null,
       "align_self": null,
       "border": null,
       "bottom": null,
       "display": null,
       "flex": null,
       "flex_flow": null,
       "grid_area": null,
       "grid_auto_columns": null,
       "grid_auto_flow": null,
       "grid_auto_rows": null,
       "grid_column": null,
       "grid_gap": null,
       "grid_row": null,
       "grid_template_areas": null,
       "grid_template_columns": null,
       "grid_template_rows": null,
       "height": null,
       "justify_content": null,
       "justify_items": null,
       "left": null,
       "margin": null,
       "max_height": null,
       "max_width": null,
       "min_height": null,
       "min_width": null,
       "object_fit": null,
       "object_position": null,
       "order": null,
       "overflow": null,
       "overflow_x": null,
       "overflow_y": null,
       "padding": null,
       "right": null,
       "top": null,
       "visibility": null,
       "width": null
      }
     },
     "6091bb125d374def8c7f55fe47ab7be8": {
      "model_module": "@jupyter-widgets/controls",
      "model_module_version": "1.5.0",
      "model_name": "VBoxModel",
      "state": {
       "_dom_classes": [
        "widget-interact"
       ],
       "_model_module": "@jupyter-widgets/controls",
       "_model_module_version": "1.5.0",
       "_model_name": "VBoxModel",
       "_view_count": null,
       "_view_module": "@jupyter-widgets/controls",
       "_view_module_version": "1.5.0",
       "_view_name": "VBoxView",
       "box_style": "",
       "children": [
        "IPY_MODEL_aebb332455564ca98d667aa689a4944e",
        "IPY_MODEL_a18f7407f6714881b31ddaf3344ceeed"
       ],
       "layout": "IPY_MODEL_ea3037009c184f8d8adaa26a8cab9959"
      }
     },
     "6391a1d4415d480b997cdf964c339ec5": {
      "model_module": "@jupyter-widgets/base",
      "model_module_version": "1.2.0",
      "model_name": "LayoutModel",
      "state": {
       "_model_module": "@jupyter-widgets/base",
       "_model_module_version": "1.2.0",
       "_model_name": "LayoutModel",
       "_view_count": null,
       "_view_module": "@jupyter-widgets/base",
       "_view_module_version": "1.2.0",
       "_view_name": "LayoutView",
       "align_content": null,
       "align_items": null,
       "align_self": null,
       "border": null,
       "bottom": null,
       "display": null,
       "flex": null,
       "flex_flow": null,
       "grid_area": null,
       "grid_auto_columns": null,
       "grid_auto_flow": null,
       "grid_auto_rows": null,
       "grid_column": null,
       "grid_gap": null,
       "grid_row": null,
       "grid_template_areas": null,
       "grid_template_columns": null,
       "grid_template_rows": null,
       "height": null,
       "justify_content": null,
       "justify_items": null,
       "left": null,
       "margin": null,
       "max_height": null,
       "max_width": null,
       "min_height": null,
       "min_width": null,
       "object_fit": null,
       "object_position": null,
       "order": null,
       "overflow": null,
       "overflow_x": null,
       "overflow_y": null,
       "padding": null,
       "right": null,
       "top": null,
       "visibility": null,
       "width": null
      }
     },
     "66ece9d1de04429fb506206459da2f07": {
      "model_module": "@jupyter-widgets/controls",
      "model_module_version": "1.5.0",
      "model_name": "VBoxModel",
      "state": {
       "_dom_classes": [
        "widget-interact"
       ],
       "_model_module": "@jupyter-widgets/controls",
       "_model_module_version": "1.5.0",
       "_model_name": "VBoxModel",
       "_view_count": null,
       "_view_module": "@jupyter-widgets/controls",
       "_view_module_version": "1.5.0",
       "_view_name": "VBoxView",
       "box_style": "",
       "children": [
        "IPY_MODEL_a338c30528274ec3aa060afb154a52ab",
        "IPY_MODEL_182f2138e958460d8967e02514500884"
       ],
       "layout": "IPY_MODEL_721fd98738594240a120cc1e16e7801c"
      }
     },
     "721fd98738594240a120cc1e16e7801c": {
      "model_module": "@jupyter-widgets/base",
      "model_module_version": "1.2.0",
      "model_name": "LayoutModel",
      "state": {
       "_model_module": "@jupyter-widgets/base",
       "_model_module_version": "1.2.0",
       "_model_name": "LayoutModel",
       "_view_count": null,
       "_view_module": "@jupyter-widgets/base",
       "_view_module_version": "1.2.0",
       "_view_name": "LayoutView",
       "align_content": null,
       "align_items": null,
       "align_self": null,
       "border": null,
       "bottom": null,
       "display": null,
       "flex": null,
       "flex_flow": null,
       "grid_area": null,
       "grid_auto_columns": null,
       "grid_auto_flow": null,
       "grid_auto_rows": null,
       "grid_column": null,
       "grid_gap": null,
       "grid_row": null,
       "grid_template_areas": null,
       "grid_template_columns": null,
       "grid_template_rows": null,
       "height": null,
       "justify_content": null,
       "justify_items": null,
       "left": null,
       "margin": null,
       "max_height": null,
       "max_width": null,
       "min_height": null,
       "min_width": null,
       "object_fit": null,
       "object_position": null,
       "order": null,
       "overflow": null,
       "overflow_x": null,
       "overflow_y": null,
       "padding": null,
       "right": null,
       "top": null,
       "visibility": null,
       "width": null
      }
     },
     "739114293e6d44389d653e63c75be8f6": {
      "model_module": "@jupyter-widgets/base",
      "model_module_version": "1.2.0",
      "model_name": "LayoutModel",
      "state": {
       "_model_module": "@jupyter-widgets/base",
       "_model_module_version": "1.2.0",
       "_model_name": "LayoutModel",
       "_view_count": null,
       "_view_module": "@jupyter-widgets/base",
       "_view_module_version": "1.2.0",
       "_view_name": "LayoutView",
       "align_content": null,
       "align_items": null,
       "align_self": null,
       "border": null,
       "bottom": null,
       "display": null,
       "flex": null,
       "flex_flow": null,
       "grid_area": null,
       "grid_auto_columns": null,
       "grid_auto_flow": null,
       "grid_auto_rows": null,
       "grid_column": null,
       "grid_gap": null,
       "grid_row": null,
       "grid_template_areas": null,
       "grid_template_columns": null,
       "grid_template_rows": null,
       "height": null,
       "justify_content": null,
       "justify_items": null,
       "left": null,
       "margin": null,
       "max_height": null,
       "max_width": null,
       "min_height": null,
       "min_width": null,
       "object_fit": null,
       "object_position": null,
       "order": null,
       "overflow": null,
       "overflow_x": null,
       "overflow_y": null,
       "padding": null,
       "right": null,
       "top": null,
       "visibility": null,
       "width": null
      }
     },
     "79eb4977a8fe4e1fbaa07104b0fa6f80": {
      "model_module": "@jupyter-widgets/base",
      "model_module_version": "1.2.0",
      "model_name": "LayoutModel",
      "state": {
       "_model_module": "@jupyter-widgets/base",
       "_model_module_version": "1.2.0",
       "_model_name": "LayoutModel",
       "_view_count": null,
       "_view_module": "@jupyter-widgets/base",
       "_view_module_version": "1.2.0",
       "_view_name": "LayoutView",
       "align_content": null,
       "align_items": null,
       "align_self": null,
       "border": null,
       "bottom": null,
       "display": null,
       "flex": null,
       "flex_flow": null,
       "grid_area": null,
       "grid_auto_columns": null,
       "grid_auto_flow": null,
       "grid_auto_rows": null,
       "grid_column": null,
       "grid_gap": null,
       "grid_row": null,
       "grid_template_areas": null,
       "grid_template_columns": null,
       "grid_template_rows": null,
       "height": null,
       "justify_content": null,
       "justify_items": null,
       "left": null,
       "margin": null,
       "max_height": null,
       "max_width": null,
       "min_height": null,
       "min_width": null,
       "object_fit": null,
       "object_position": null,
       "order": null,
       "overflow": null,
       "overflow_x": null,
       "overflow_y": null,
       "padding": null,
       "right": null,
       "top": null,
       "visibility": null,
       "width": null
      }
     },
     "7c5db6de40654dbe9606bcc177cc406c": {
      "model_module": "@jupyter-widgets/output",
      "model_module_version": "1.0.0",
      "model_name": "OutputModel",
      "state": {
       "_dom_classes": [],
       "_model_module": "@jupyter-widgets/output",
       "_model_module_version": "1.0.0",
       "_model_name": "OutputModel",
       "_view_count": null,
       "_view_module": "@jupyter-widgets/output",
       "_view_module_version": "1.0.0",
       "_view_name": "OutputView",
       "layout": "IPY_MODEL_57ec7be9953b4b368667165435b6b269",
       "msg_id": "",
       "outputs": [
        {
         "data": {
          "image/png": "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",
          "text/plain": "<Figure size 700x600 with 1 Axes>"
         },
         "metadata": {},
         "output_type": "display_data"
        }
       ]
      }
     },
     "7e2227d8b93f4bd0a92ee15cc571bb9f": {
      "model_module": "@jupyter-widgets/base",
      "model_module_version": "1.2.0",
      "model_name": "LayoutModel",
      "state": {
       "_model_module": "@jupyter-widgets/base",
       "_model_module_version": "1.2.0",
       "_model_name": "LayoutModel",
       "_view_count": null,
       "_view_module": "@jupyter-widgets/base",
       "_view_module_version": "1.2.0",
       "_view_name": "LayoutView",
       "align_content": null,
       "align_items": null,
       "align_self": null,
       "border": null,
       "bottom": null,
       "display": null,
       "flex": null,
       "flex_flow": null,
       "grid_area": null,
       "grid_auto_columns": null,
       "grid_auto_flow": null,
       "grid_auto_rows": null,
       "grid_column": null,
       "grid_gap": null,
       "grid_row": null,
       "grid_template_areas": null,
       "grid_template_columns": null,
       "grid_template_rows": null,
       "height": null,
       "justify_content": null,
       "justify_items": null,
       "left": null,
       "margin": null,
       "max_height": null,
       "max_width": null,
       "min_height": null,
       "min_width": null,
       "object_fit": null,
       "object_position": null,
       "order": null,
       "overflow": null,
       "overflow_x": null,
       "overflow_y": null,
       "padding": null,
       "right": null,
       "top": null,
       "visibility": null,
       "width": null
      }
     },
     "8193fb8d874241cc9d7ee26f14d6fd4f": {
      "model_module": "@jupyter-widgets/controls",
      "model_module_version": "1.5.0",
      "model_name": "ToggleButtonsModel",
      "state": {
       "_dom_classes": [],
       "_model_module": "@jupyter-widgets/controls",
       "_model_module_version": "1.5.0",
       "_model_name": "ToggleButtonsModel",
       "_options_labels": [
        "Pipeline Plot",
        "Hyperparameters",
        "AUC",
        "Confusion Matrix",
        "Threshold",
        "Precision Recall",
        "Prediction Error",
        "Class Report",
        "Feature Selection",
        "Learning Curve",
        "Manifold Learning",
        "Calibration Curve",
        "Validation Curve",
        "Dimensions",
        "Feature Importance",
        "Feature Importance (All)",
        "Decision Boundary",
        "Lift Chart",
        "Gain Chart",
        "Decision Tree",
        "KS Statistic Plot"
       ],
       "_view_count": null,
       "_view_module": "@jupyter-widgets/controls",
       "_view_module_version": "1.5.0",
       "_view_name": "ToggleButtonsView",
       "button_style": "",
       "description": "Plot Type:",
       "description_tooltip": null,
       "disabled": false,
       "icons": [
        ""
       ],
       "index": 0,
       "layout": "IPY_MODEL_c02540b4845c417382ab61913f92d6af",
       "style": "IPY_MODEL_87010ed4965746dc8cbf1971e736a2ab",
       "tooltips": []
      }
     },
     "867afdc664324a94849df039b8b9187f": {
      "model_module": "@jupyter-widgets/controls",
      "model_module_version": "1.5.0",
      "model_name": "ToggleButtonsModel",
      "state": {
       "_dom_classes": [],
       "_model_module": "@jupyter-widgets/controls",
       "_model_module_version": "1.5.0",
       "_model_name": "ToggleButtonsModel",
       "_options_labels": [
        "Pipeline Plot",
        "Hyperparameters",
        "AUC",
        "Confusion Matrix",
        "Threshold",
        "Precision Recall",
        "Prediction Error",
        "Class Report",
        "Feature Selection",
        "Learning Curve",
        "Manifold Learning",
        "Calibration Curve",
        "Validation Curve",
        "Dimensions",
        "Feature Importance",
        "Feature Importance (All)",
        "Decision Boundary",
        "Lift Chart",
        "Gain Chart",
        "Decision Tree",
        "KS Statistic Plot"
       ],
       "_view_count": null,
       "_view_module": "@jupyter-widgets/controls",
       "_view_module_version": "1.5.0",
       "_view_name": "ToggleButtonsView",
       "button_style": "",
       "description": "Plot Type:",
       "description_tooltip": null,
       "disabled": false,
       "icons": [
        ""
       ],
       "index": 0,
       "layout": "IPY_MODEL_7e2227d8b93f4bd0a92ee15cc571bb9f",
       "style": "IPY_MODEL_b4f58a931ec643d5bda039c07c697a1e",
       "tooltips": []
      }
     },
     "87010ed4965746dc8cbf1971e736a2ab": {
      "model_module": "@jupyter-widgets/controls",
      "model_module_version": "1.5.0",
      "model_name": "ToggleButtonsStyleModel",
      "state": {
       "_model_module": "@jupyter-widgets/controls",
       "_model_module_version": "1.5.0",
       "_model_name": "ToggleButtonsStyleModel",
       "_view_count": null,
       "_view_module": "@jupyter-widgets/base",
       "_view_module_version": "1.2.0",
       "_view_name": "StyleView",
       "button_width": "",
       "description_width": "",
       "font_weight": ""
      }
     },
     "895831451e76430e955b8c0191683f31": {
      "model_module": "@jupyter-widgets/output",
      "model_module_version": "1.0.0",
      "model_name": "OutputModel",
      "state": {
       "_dom_classes": [],
       "_model_module": "@jupyter-widgets/output",
       "_model_module_version": "1.0.0",
       "_model_name": "OutputModel",
       "_view_count": null,
       "_view_module": "@jupyter-widgets/output",
       "_view_module_version": "1.0.0",
       "_view_name": "OutputView",
       "layout": "IPY_MODEL_fc1ac427e56f4da8b1ff842172bbca35",
       "msg_id": "",
       "outputs": [
        {
         "data": {
          "image/png": "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",
          "text/plain": "<Figure size 700x600 with 1 Axes>"
         },
         "metadata": {},
         "output_type": "display_data"
        }
       ]
      }
     },
     "a0df0b000eb4448cb07a0a23c3c27610": {
      "model_module": "@jupyter-widgets/controls",
      "model_module_version": "1.5.0",
      "model_name": "DescriptionStyleModel",
      "state": {
       "_model_module": "@jupyter-widgets/controls",
       "_model_module_version": "1.5.0",
       "_model_name": "DescriptionStyleModel",
       "_view_count": null,
       "_view_module": "@jupyter-widgets/base",
       "_view_module_version": "1.2.0",
       "_view_name": "StyleView",
       "description_width": ""
      }
     },
     "a18f7407f6714881b31ddaf3344ceeed": {
      "model_module": "@jupyter-widgets/output",
      "model_module_version": "1.0.0",
      "model_name": "OutputModel",
      "state": {
       "_dom_classes": [],
       "_model_module": "@jupyter-widgets/output",
       "_model_module_version": "1.0.0",
       "_model_name": "OutputModel",
       "_view_count": null,
       "_view_module": "@jupyter-widgets/output",
       "_view_module_version": "1.0.0",
       "_view_name": "OutputView",
       "layout": "IPY_MODEL_b8f35595a31144fe824fe986616958aa",
       "msg_id": "",
       "outputs": [
        {
         "data": {
          "image/png": "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",
          "text/plain": "<Figure size 700x600 with 1 Axes>"
         },
         "metadata": {},
         "output_type": "display_data"
        }
       ]
      }
     },
     "a1f1cb12d95a456c8e830a64f254a3d8": {
      "model_module": "@jupyter-widgets/controls",
      "model_module_version": "1.5.0",
      "model_name": "ToggleButtonsStyleModel",
      "state": {
       "_model_module": "@jupyter-widgets/controls",
       "_model_module_version": "1.5.0",
       "_model_name": "ToggleButtonsStyleModel",
       "_view_count": null,
       "_view_module": "@jupyter-widgets/base",
       "_view_module_version": "1.2.0",
       "_view_name": "StyleView",
       "button_width": "",
       "description_width": "",
       "font_weight": ""
      }
     },
     "a338c30528274ec3aa060afb154a52ab": {
      "model_module": "@jupyter-widgets/controls",
      "model_module_version": "1.5.0",
      "model_name": "ToggleButtonsModel",
      "state": {
       "_dom_classes": [],
       "_model_module": "@jupyter-widgets/controls",
       "_model_module_version": "1.5.0",
       "_model_name": "ToggleButtonsModel",
       "_options_labels": [
        "Pipeline Plot",
        "Hyperparameters",
        "AUC",
        "Confusion Matrix",
        "Threshold",
        "Precision Recall",
        "Prediction Error",
        "Class Report",
        "Feature Selection",
        "Learning Curve",
        "Manifold Learning",
        "Calibration Curve",
        "Validation Curve",
        "Dimensions",
        "Feature Importance",
        "Feature Importance (All)",
        "Decision Boundary",
        "Lift Chart",
        "Gain Chart",
        "Decision Tree",
        "KS Statistic Plot"
       ],
       "_view_count": null,
       "_view_module": "@jupyter-widgets/controls",
       "_view_module_version": "1.5.0",
       "_view_name": "ToggleButtonsView",
       "button_style": "",
       "description": "Plot Type:",
       "description_tooltip": null,
       "disabled": false,
       "icons": [
        ""
       ],
       "index": 0,
       "layout": "IPY_MODEL_79eb4977a8fe4e1fbaa07104b0fa6f80",
       "style": "IPY_MODEL_50c5ba33a9574e40a258482af08193b9",
       "tooltips": []
      }
     },
     "abcf53cb4d5d44eaa751c746a10e9135": {
      "model_module": "@jupyter-widgets/output",
      "model_module_version": "1.0.0",
      "model_name": "OutputModel",
      "state": {
       "_dom_classes": [],
       "_model_module": "@jupyter-widgets/output",
       "_model_module_version": "1.0.0",
       "_model_name": "OutputModel",
       "_view_count": null,
       "_view_module": "@jupyter-widgets/output",
       "_view_module_version": "1.0.0",
       "_view_name": "OutputView",
       "layout": "IPY_MODEL_049f19768d7d425ca49c474808409c2e",
       "msg_id": "",
       "outputs": [
        {
         "data": {
          "image/png": "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",
          "text/plain": "<Figure size 700x600 with 1 Axes>"
         },
         "metadata": {},
         "output_type": "display_data"
        }
       ]
      }
     },
     "ad2cd030858149cb9431cb7e008670f4": {
      "model_module": "@jupyter-widgets/controls",
      "model_module_version": "1.5.0",
      "model_name": "HTMLModel",
      "state": {
       "_dom_classes": [],
       "_model_module": "@jupyter-widgets/controls",
       "_model_module_version": "1.5.0",
       "_model_name": "HTMLModel",
       "_view_count": null,
       "_view_module": "@jupyter-widgets/controls",
       "_view_module_version": "1.5.0",
       "_view_name": "HTMLView",
       "description": "",
       "description_tooltip": null,
       "layout": "IPY_MODEL_6391a1d4415d480b997cdf964c339ec5",
       "placeholder": "​",
       "style": "IPY_MODEL_e1128c412ca74869a1f64e35cd6b388e",
       "value": " 25/25 [00:30&lt;00:00,  1.69it/s]"
      }
     },
     "ad9f198674154d5786afaf7e0dd84763": {
      "model_module": "@jupyter-widgets/controls",
      "model_module_version": "1.5.0",
      "model_name": "FloatProgressModel",
      "state": {
       "_dom_classes": [],
       "_model_module": "@jupyter-widgets/controls",
       "_model_module_version": "1.5.0",
       "_model_name": "FloatProgressModel",
       "_view_count": null,
       "_view_module": "@jupyter-widgets/controls",
       "_view_module_version": "1.5.0",
       "_view_name": "ProgressView",
       "bar_style": "",
       "description": "",
       "description_tooltip": null,
       "layout": "IPY_MODEL_c8f18a3be0e5420690359d9416f5db0e",
       "max": 25.0,
       "min": 0.0,
       "orientation": "horizontal",
       "style": "IPY_MODEL_f25af5f037bd447eab8d9ec7839db8e4",
       "value": 25.0
      }
     },
     "aebb332455564ca98d667aa689a4944e": {
      "model_module": "@jupyter-widgets/controls",
      "model_module_version": "1.5.0",
      "model_name": "ToggleButtonsModel",
      "state": {
       "_dom_classes": [],
       "_model_module": "@jupyter-widgets/controls",
       "_model_module_version": "1.5.0",
       "_model_name": "ToggleButtonsModel",
       "_options_labels": [
        "Pipeline Plot",
        "Hyperparameters",
        "AUC",
        "Confusion Matrix",
        "Threshold",
        "Precision Recall",
        "Prediction Error",
        "Class Report",
        "Feature Selection",
        "Learning Curve",
        "Manifold Learning",
        "Calibration Curve",
        "Validation Curve",
        "Dimensions",
        "Feature Importance",
        "Feature Importance (All)",
        "Decision Boundary",
        "Lift Chart",
        "Gain Chart",
        "Decision Tree",
        "KS Statistic Plot"
       ],
       "_view_count": null,
       "_view_module": "@jupyter-widgets/controls",
       "_view_module_version": "1.5.0",
       "_view_name": "ToggleButtonsView",
       "button_style": "",
       "description": "Plot Type:",
       "description_tooltip": null,
       "disabled": false,
       "icons": [
        ""
       ],
       "index": 0,
       "layout": "IPY_MODEL_e08c4424e9814b7493cb8bd66e8b3851",
       "style": "IPY_MODEL_12ddbeaac78f4b36918876422185e10a",
       "tooltips": []
      }
     },
     "af4a645f5c154aab834d941c0ae26d5e": {
      "model_module": "@jupyter-widgets/controls",
      "model_module_version": "1.5.0",
      "model_name": "ToggleButtonsStyleModel",
      "state": {
       "_model_module": "@jupyter-widgets/controls",
       "_model_module_version": "1.5.0",
       "_model_name": "ToggleButtonsStyleModel",
       "_view_count": null,
       "_view_module": "@jupyter-widgets/base",
       "_view_module_version": "1.2.0",
       "_view_name": "StyleView",
       "button_width": "",
       "description_width": "",
       "font_weight": ""
      }
     },
     "b4f58a931ec643d5bda039c07c697a1e": {
      "model_module": "@jupyter-widgets/controls",
      "model_module_version": "1.5.0",
      "model_name": "ToggleButtonsStyleModel",
      "state": {
       "_model_module": "@jupyter-widgets/controls",
       "_model_module_version": "1.5.0",
       "_model_name": "ToggleButtonsStyleModel",
       "_view_count": null,
       "_view_module": "@jupyter-widgets/base",
       "_view_module_version": "1.2.0",
       "_view_name": "StyleView",
       "button_width": "",
       "description_width": "",
       "font_weight": ""
      }
     },
     "b63b4e03e050409db58f110993b3b882": {
      "model_module": "@jupyter-widgets/base",
      "model_module_version": "1.2.0",
      "model_name": "LayoutModel",
      "state": {
       "_model_module": "@jupyter-widgets/base",
       "_model_module_version": "1.2.0",
       "_model_name": "LayoutModel",
       "_view_count": null,
       "_view_module": "@jupyter-widgets/base",
       "_view_module_version": "1.2.0",
       "_view_name": "LayoutView",
       "align_content": null,
       "align_items": null,
       "align_self": null,
       "border": null,
       "bottom": null,
       "display": null,
       "flex": null,
       "flex_flow": null,
       "grid_area": null,
       "grid_auto_columns": null,
       "grid_auto_flow": null,
       "grid_auto_rows": null,
       "grid_column": null,
       "grid_gap": null,
       "grid_row": null,
       "grid_template_areas": null,
       "grid_template_columns": null,
       "grid_template_rows": null,
       "height": null,
       "justify_content": null,
       "justify_items": null,
       "left": null,
       "margin": null,
       "max_height": null,
       "max_width": null,
       "min_height": null,
       "min_width": null,
       "object_fit": null,
       "object_position": null,
       "order": null,
       "overflow": null,
       "overflow_x": null,
       "overflow_y": null,
       "padding": null,
       "right": null,
       "top": null,
       "visibility": null,
       "width": null
      }
     },
     "b8f35595a31144fe824fe986616958aa": {
      "model_module": "@jupyter-widgets/base",
      "model_module_version": "1.2.0",
      "model_name": "LayoutModel",
      "state": {
       "_model_module": "@jupyter-widgets/base",
       "_model_module_version": "1.2.0",
       "_model_name": "LayoutModel",
       "_view_count": null,
       "_view_module": "@jupyter-widgets/base",
       "_view_module_version": "1.2.0",
       "_view_name": "LayoutView",
       "align_content": null,
       "align_items": null,
       "align_self": null,
       "border": null,
       "bottom": null,
       "display": null,
       "flex": null,
       "flex_flow": null,
       "grid_area": null,
       "grid_auto_columns": null,
       "grid_auto_flow": null,
       "grid_auto_rows": null,
       "grid_column": null,
       "grid_gap": null,
       "grid_row": null,
       "grid_template_areas": null,
       "grid_template_columns": null,
       "grid_template_rows": null,
       "height": null,
       "justify_content": null,
       "justify_items": null,
       "left": null,
       "margin": null,
       "max_height": null,
       "max_width": null,
       "min_height": null,
       "min_width": null,
       "object_fit": null,
       "object_position": null,
       "order": null,
       "overflow": null,
       "overflow_x": null,
       "overflow_y": null,
       "padding": null,
       "right": null,
       "top": null,
       "visibility": null,
       "width": null
      }
     },
     "c02540b4845c417382ab61913f92d6af": {
      "model_module": "@jupyter-widgets/base",
      "model_module_version": "1.2.0",
      "model_name": "LayoutModel",
      "state": {
       "_model_module": "@jupyter-widgets/base",
       "_model_module_version": "1.2.0",
       "_model_name": "LayoutModel",
       "_view_count": null,
       "_view_module": "@jupyter-widgets/base",
       "_view_module_version": "1.2.0",
       "_view_name": "LayoutView",
       "align_content": null,
       "align_items": null,
       "align_self": null,
       "border": null,
       "bottom": null,
       "display": null,
       "flex": null,
       "flex_flow": null,
       "grid_area": null,
       "grid_auto_columns": null,
       "grid_auto_flow": null,
       "grid_auto_rows": null,
       "grid_column": null,
       "grid_gap": null,
       "grid_row": null,
       "grid_template_areas": null,
       "grid_template_columns": null,
       "grid_template_rows": null,
       "height": null,
       "justify_content": null,
       "justify_items": null,
       "left": null,
       "margin": null,
       "max_height": null,
       "max_width": null,
       "min_height": null,
       "min_width": null,
       "object_fit": null,
       "object_position": null,
       "order": null,
       "overflow": null,
       "overflow_x": null,
       "overflow_y": null,
       "padding": null,
       "right": null,
       "top": null,
       "visibility": null,
       "width": null
      }
     },
     "c3fb924e132240e3a684a23e1169c16f": {
      "model_module": "@jupyter-widgets/base",
      "model_module_version": "1.2.0",
      "model_name": "LayoutModel",
      "state": {
       "_model_module": "@jupyter-widgets/base",
       "_model_module_version": "1.2.0",
       "_model_name": "LayoutModel",
       "_view_count": null,
       "_view_module": "@jupyter-widgets/base",
       "_view_module_version": "1.2.0",
       "_view_name": "LayoutView",
       "align_content": null,
       "align_items": null,
       "align_self": null,
       "border": null,
       "bottom": null,
       "display": null,
       "flex": null,
       "flex_flow": null,
       "grid_area": null,
       "grid_auto_columns": null,
       "grid_auto_flow": null,
       "grid_auto_rows": null,
       "grid_column": null,
       "grid_gap": null,
       "grid_row": null,
       "grid_template_areas": null,
       "grid_template_columns": null,
       "grid_template_rows": null,
       "height": null,
       "justify_content": null,
       "justify_items": null,
       "left": null,
       "margin": null,
       "max_height": null,
       "max_width": null,
       "min_height": null,
       "min_width": null,
       "object_fit": null,
       "object_position": null,
       "order": null,
       "overflow": null,
       "overflow_x": null,
       "overflow_y": null,
       "padding": null,
       "right": null,
       "top": null,
       "visibility": null,
       "width": null
      }
     },
     "c8f18a3be0e5420690359d9416f5db0e": {
      "model_module": "@jupyter-widgets/base",
      "model_module_version": "1.2.0",
      "model_name": "LayoutModel",
      "state": {
       "_model_module": "@jupyter-widgets/base",
       "_model_module_version": "1.2.0",
       "_model_name": "LayoutModel",
       "_view_count": null,
       "_view_module": "@jupyter-widgets/base",
       "_view_module_version": "1.2.0",
       "_view_name": "LayoutView",
       "align_content": null,
       "align_items": null,
       "align_self": null,
       "border": null,
       "bottom": null,
       "display": null,
       "flex": null,
       "flex_flow": null,
       "grid_area": null,
       "grid_auto_columns": null,
       "grid_auto_flow": null,
       "grid_auto_rows": null,
       "grid_column": null,
       "grid_gap": null,
       "grid_row": null,
       "grid_template_areas": null,
       "grid_template_columns": null,
       "grid_template_rows": null,
       "height": null,
       "justify_content": null,
       "justify_items": null,
       "left": null,
       "margin": null,
       "max_height": null,
       "max_width": null,
       "min_height": null,
       "min_width": null,
       "object_fit": null,
       "object_position": null,
       "order": null,
       "overflow": null,
       "overflow_x": null,
       "overflow_y": null,
       "padding": null,
       "right": null,
       "top": null,
       "visibility": null,
       "width": null
      }
     },
     "d5426a29215c4076993f1af768d2096f": {
      "model_module": "@jupyter-widgets/base",
      "model_module_version": "1.2.0",
      "model_name": "LayoutModel",
      "state": {
       "_model_module": "@jupyter-widgets/base",
       "_model_module_version": "1.2.0",
       "_model_name": "LayoutModel",
       "_view_count": null,
       "_view_module": "@jupyter-widgets/base",
       "_view_module_version": "1.2.0",
       "_view_name": "LayoutView",
       "align_content": null,
       "align_items": null,
       "align_self": null,
       "border": null,
       "bottom": null,
       "display": null,
       "flex": null,
       "flex_flow": null,
       "grid_area": null,
       "grid_auto_columns": null,
       "grid_auto_flow": null,
       "grid_auto_rows": null,
       "grid_column": null,
       "grid_gap": null,
       "grid_row": null,
       "grid_template_areas": null,
       "grid_template_columns": null,
       "grid_template_rows": null,
       "height": null,
       "justify_content": null,
       "justify_items": null,
       "left": null,
       "margin": null,
       "max_height": null,
       "max_width": null,
       "min_height": null,
       "min_width": null,
       "object_fit": null,
       "object_position": null,
       "order": null,
       "overflow": null,
       "overflow_x": null,
       "overflow_y": null,
       "padding": null,
       "right": null,
       "top": null,
       "visibility": null,
       "width": null
      }
     },
     "d602296b2fb5498ab1fa274de626b0ce": {
      "model_module": "@jupyter-widgets/base",
      "model_module_version": "1.2.0",
      "model_name": "LayoutModel",
      "state": {
       "_model_module": "@jupyter-widgets/base",
       "_model_module_version": "1.2.0",
       "_model_name": "LayoutModel",
       "_view_count": null,
       "_view_module": "@jupyter-widgets/base",
       "_view_module_version": "1.2.0",
       "_view_name": "LayoutView",
       "align_content": null,
       "align_items": null,
       "align_self": null,
       "border": null,
       "bottom": null,
       "display": null,
       "flex": null,
       "flex_flow": null,
       "grid_area": null,
       "grid_auto_columns": null,
       "grid_auto_flow": null,
       "grid_auto_rows": null,
       "grid_column": null,
       "grid_gap": null,
       "grid_row": null,
       "grid_template_areas": null,
       "grid_template_columns": null,
       "grid_template_rows": null,
       "height": null,
       "justify_content": null,
       "justify_items": null,
       "left": null,
       "margin": null,
       "max_height": null,
       "max_width": null,
       "min_height": null,
       "min_width": null,
       "object_fit": null,
       "object_position": null,
       "order": null,
       "overflow": null,
       "overflow_x": null,
       "overflow_y": null,
       "padding": null,
       "right": null,
       "top": null,
       "visibility": "hidden",
       "width": null
      }
     },
     "dcd17598d08a4e269a2b62f78c198ad6": {
      "model_module": "@jupyter-widgets/controls",
      "model_module_version": "1.5.0",
      "model_name": "VBoxModel",
      "state": {
       "_dom_classes": [
        "widget-interact"
       ],
       "_model_module": "@jupyter-widgets/controls",
       "_model_module_version": "1.5.0",
       "_model_name": "VBoxModel",
       "_view_count": null,
       "_view_module": "@jupyter-widgets/controls",
       "_view_module_version": "1.5.0",
       "_view_name": "VBoxView",
       "box_style": "",
       "children": [
        "IPY_MODEL_867afdc664324a94849df039b8b9187f",
        "IPY_MODEL_abcf53cb4d5d44eaa751c746a10e9135"
       ],
       "layout": "IPY_MODEL_d5426a29215c4076993f1af768d2096f"
      }
     },
     "e00dc18ddd72488e9a01af71fa4e55bd": {
      "model_module": "@jupyter-widgets/base",
      "model_module_version": "1.2.0",
      "model_name": "LayoutModel",
      "state": {
       "_model_module": "@jupyter-widgets/base",
       "_model_module_version": "1.2.0",
       "_model_name": "LayoutModel",
       "_view_count": null,
       "_view_module": "@jupyter-widgets/base",
       "_view_module_version": "1.2.0",
       "_view_name": "LayoutView",
       "align_content": null,
       "align_items": null,
       "align_self": null,
       "border": null,
       "bottom": null,
       "display": null,
       "flex": null,
       "flex_flow": null,
       "grid_area": null,
       "grid_auto_columns": null,
       "grid_auto_flow": null,
       "grid_auto_rows": null,
       "grid_column": null,
       "grid_gap": null,
       "grid_row": null,
       "grid_template_areas": null,
       "grid_template_columns": null,
       "grid_template_rows": null,
       "height": null,
       "justify_content": null,
       "justify_items": null,
       "left": null,
       "margin": null,
       "max_height": null,
       "max_width": null,
       "min_height": null,
       "min_width": null,
       "object_fit": null,
       "object_position": null,
       "order": null,
       "overflow": null,
       "overflow_x": null,
       "overflow_y": null,
       "padding": null,
       "right": null,
       "top": null,
       "visibility": null,
       "width": null
      }
     },
     "e08c4424e9814b7493cb8bd66e8b3851": {
      "model_module": "@jupyter-widgets/base",
      "model_module_version": "1.2.0",
      "model_name": "LayoutModel",
      "state": {
       "_model_module": "@jupyter-widgets/base",
       "_model_module_version": "1.2.0",
       "_model_name": "LayoutModel",
       "_view_count": null,
       "_view_module": "@jupyter-widgets/base",
       "_view_module_version": "1.2.0",
       "_view_name": "LayoutView",
       "align_content": null,
       "align_items": null,
       "align_self": null,
       "border": null,
       "bottom": null,
       "display": null,
       "flex": null,
       "flex_flow": null,
       "grid_area": null,
       "grid_auto_columns": null,
       "grid_auto_flow": null,
       "grid_auto_rows": null,
       "grid_column": null,
       "grid_gap": null,
       "grid_row": null,
       "grid_template_areas": null,
       "grid_template_columns": null,
       "grid_template_rows": null,
       "height": null,
       "justify_content": null,
       "justify_items": null,
       "left": null,
       "margin": null,
       "max_height": null,
       "max_width": null,
       "min_height": null,
       "min_width": null,
       "object_fit": null,
       "object_position": null,
       "order": null,
       "overflow": null,
       "overflow_x": null,
       "overflow_y": null,
       "padding": null,
       "right": null,
       "top": null,
       "visibility": null,
       "width": null
      }
     },
     "e1128c412ca74869a1f64e35cd6b388e": {
      "model_module": "@jupyter-widgets/controls",
      "model_module_version": "1.5.0",
      "model_name": "DescriptionStyleModel",
      "state": {
       "_model_module": "@jupyter-widgets/controls",
       "_model_module_version": "1.5.0",
       "_model_name": "DescriptionStyleModel",
       "_view_count": null,
       "_view_module": "@jupyter-widgets/base",
       "_view_module_version": "1.2.0",
       "_view_name": "StyleView",
       "description_width": ""
      }
     },
     "e7b7ebf00ddc4e4493a13c8c8149409a": {
      "model_module": "@jupyter-widgets/controls",
      "model_module_version": "1.5.0",
      "model_name": "VBoxModel",
      "state": {
       "_dom_classes": [
        "widget-interact"
       ],
       "_model_module": "@jupyter-widgets/controls",
       "_model_module_version": "1.5.0",
       "_model_name": "VBoxModel",
       "_view_count": null,
       "_view_module": "@jupyter-widgets/controls",
       "_view_module_version": "1.5.0",
       "_view_name": "VBoxView",
       "box_style": "",
       "children": [
        "IPY_MODEL_eaeb54462c29477a97694ca73f8af2a0",
        "IPY_MODEL_4125393e22d2474ea0b0e989e6fa8847"
       ],
       "layout": "IPY_MODEL_54f444b3a66b4974a741c1f6f58a760f"
      }
     },
     "e9d56d97de15477881c0a57b2dcf540f": {
      "model_module": "@jupyter-widgets/controls",
      "model_module_version": "1.5.0",
      "model_name": "ToggleButtonsModel",
      "state": {
       "_dom_classes": [],
       "_model_module": "@jupyter-widgets/controls",
       "_model_module_version": "1.5.0",
       "_model_name": "ToggleButtonsModel",
       "_options_labels": [
        "Pipeline Plot",
        "Hyperparameters",
        "AUC",
        "Confusion Matrix",
        "Threshold",
        "Precision Recall",
        "Prediction Error",
        "Class Report",
        "Feature Selection",
        "Learning Curve",
        "Manifold Learning",
        "Calibration Curve",
        "Validation Curve",
        "Dimensions",
        "Feature Importance",
        "Feature Importance (All)",
        "Decision Boundary",
        "Lift Chart",
        "Gain Chart",
        "Decision Tree",
        "KS Statistic Plot"
       ],
       "_view_count": null,
       "_view_module": "@jupyter-widgets/controls",
       "_view_module_version": "1.5.0",
       "_view_name": "ToggleButtonsView",
       "button_style": "",
       "description": "Plot Type:",
       "description_tooltip": null,
       "disabled": false,
       "icons": [
        ""
       ],
       "index": 0,
       "layout": "IPY_MODEL_229641f66d63451d94ed6a3413a1850e",
       "style": "IPY_MODEL_af4a645f5c154aab834d941c0ae26d5e",
       "tooltips": []
      }
     },
     "ea3037009c184f8d8adaa26a8cab9959": {
      "model_module": "@jupyter-widgets/base",
      "model_module_version": "1.2.0",
      "model_name": "LayoutModel",
      "state": {
       "_model_module": "@jupyter-widgets/base",
       "_model_module_version": "1.2.0",
       "_model_name": "LayoutModel",
       "_view_count": null,
       "_view_module": "@jupyter-widgets/base",
       "_view_module_version": "1.2.0",
       "_view_name": "LayoutView",
       "align_content": null,
       "align_items": null,
       "align_self": null,
       "border": null,
       "bottom": null,
       "display": null,
       "flex": null,
       "flex_flow": null,
       "grid_area": null,
       "grid_auto_columns": null,
       "grid_auto_flow": null,
       "grid_auto_rows": null,
       "grid_column": null,
       "grid_gap": null,
       "grid_row": null,
       "grid_template_areas": null,
       "grid_template_columns": null,
       "grid_template_rows": null,
       "height": null,
       "justify_content": null,
       "justify_items": null,
       "left": null,
       "margin": null,
       "max_height": null,
       "max_width": null,
       "min_height": null,
       "min_width": null,
       "object_fit": null,
       "object_position": null,
       "order": null,
       "overflow": null,
       "overflow_x": null,
       "overflow_y": null,
       "padding": null,
       "right": null,
       "top": null,
       "visibility": null,
       "width": null
      }
     },
     "eaeb54462c29477a97694ca73f8af2a0": {
      "model_module": "@jupyter-widgets/controls",
      "model_module_version": "1.5.0",
      "model_name": "ToggleButtonsModel",
      "state": {
       "_dom_classes": [],
       "_model_module": "@jupyter-widgets/controls",
       "_model_module_version": "1.5.0",
       "_model_name": "ToggleButtonsModel",
       "_options_labels": [
        "Pipeline Plot",
        "Hyperparameters",
        "AUC",
        "Confusion Matrix",
        "Threshold",
        "Precision Recall",
        "Prediction Error",
        "Class Report",
        "Feature Selection",
        "Learning Curve",
        "Manifold Learning",
        "Calibration Curve",
        "Validation Curve",
        "Dimensions",
        "Feature Importance",
        "Feature Importance (All)",
        "Decision Boundary",
        "Lift Chart",
        "Gain Chart",
        "Decision Tree",
        "KS Statistic Plot"
       ],
       "_view_count": null,
       "_view_module": "@jupyter-widgets/controls",
       "_view_module_version": "1.5.0",
       "_view_name": "ToggleButtonsView",
       "button_style": "",
       "description": "Plot Type:",
       "description_tooltip": null,
       "disabled": false,
       "icons": [
        ""
       ],
       "index": 0,
       "layout": "IPY_MODEL_b63b4e03e050409db58f110993b3b882",
       "style": "IPY_MODEL_a1f1cb12d95a456c8e830a64f254a3d8",
       "tooltips": []
      }
     },
     "f25af5f037bd447eab8d9ec7839db8e4": {
      "model_module": "@jupyter-widgets/controls",
      "model_module_version": "1.5.0",
      "model_name": "ProgressStyleModel",
      "state": {
       "_model_module": "@jupyter-widgets/controls",
       "_model_module_version": "1.5.0",
       "_model_name": "ProgressStyleModel",
       "_view_count": null,
       "_view_module": "@jupyter-widgets/base",
       "_view_module_version": "1.2.0",
       "_view_name": "StyleView",
       "bar_color": null,
       "description_width": ""
      }
     },
     "f5a16c59080a414eac548e275b2f211a": {
      "model_module": "@jupyter-widgets/controls",
      "model_module_version": "1.5.0",
      "model_name": "VBoxModel",
      "state": {
       "_dom_classes": [
        "widget-interact"
       ],
       "_model_module": "@jupyter-widgets/controls",
       "_model_module_version": "1.5.0",
       "_model_name": "VBoxModel",
       "_view_count": null,
       "_view_module": "@jupyter-widgets/controls",
       "_view_module_version": "1.5.0",
       "_view_name": "VBoxView",
       "box_style": "",
       "children": [
        "IPY_MODEL_e9d56d97de15477881c0a57b2dcf540f",
        "IPY_MODEL_7c5db6de40654dbe9606bcc177cc406c"
       ],
       "layout": "IPY_MODEL_e00dc18ddd72488e9a01af71fa4e55bd"
      }
     },
     "f60e7665263f42fba5b6c3a5a71313bb": {
      "model_module": "@jupyter-widgets/base",
      "model_module_version": "1.2.0",
      "model_name": "LayoutModel",
      "state": {
       "_model_module": "@jupyter-widgets/base",
       "_model_module_version": "1.2.0",
       "_model_name": "LayoutModel",
       "_view_count": null,
       "_view_module": "@jupyter-widgets/base",
       "_view_module_version": "1.2.0",
       "_view_name": "LayoutView",
       "align_content": null,
       "align_items": null,
       "align_self": null,
       "border": null,
       "bottom": null,
       "display": null,
       "flex": null,
       "flex_flow": null,
       "grid_area": null,
       "grid_auto_columns": null,
       "grid_auto_flow": null,
       "grid_auto_rows": null,
       "grid_column": null,
       "grid_gap": null,
       "grid_row": null,
       "grid_template_areas": null,
       "grid_template_columns": null,
       "grid_template_rows": null,
       "height": null,
       "justify_content": null,
       "justify_items": null,
       "left": null,
       "margin": null,
       "max_height": null,
       "max_width": null,
       "min_height": null,
       "min_width": null,
       "object_fit": null,
       "object_position": null,
       "order": null,
       "overflow": null,
       "overflow_x": null,
       "overflow_y": null,
       "padding": null,
       "right": null,
       "top": null,
       "visibility": null,
       "width": null
      }
     },
     "fc1ac427e56f4da8b1ff842172bbca35": {
      "model_module": "@jupyter-widgets/base",
      "model_module_version": "1.2.0",
      "model_name": "LayoutModel",
      "state": {
       "_model_module": "@jupyter-widgets/base",
       "_model_module_version": "1.2.0",
       "_model_name": "LayoutModel",
       "_view_count": null,
       "_view_module": "@jupyter-widgets/base",
       "_view_module_version": "1.2.0",
       "_view_name": "LayoutView",
       "align_content": null,
       "align_items": null,
       "align_self": null,
       "border": null,
       "bottom": null,
       "display": null,
       "flex": null,
       "flex_flow": null,
       "grid_area": null,
       "grid_auto_columns": null,
       "grid_auto_flow": null,
       "grid_auto_rows": null,
       "grid_column": null,
       "grid_gap": null,
       "grid_row": null,
       "grid_template_areas": null,
       "grid_template_columns": null,
       "grid_template_rows": null,
       "height": null,
       "justify_content": null,
       "justify_items": null,
       "left": null,
       "margin": null,
       "max_height": null,
       "max_width": null,
       "min_height": null,
       "min_width": null,
       "object_fit": null,
       "object_position": null,
       "order": null,
       "overflow": null,
       "overflow_x": null,
       "overflow_y": null,
       "padding": null,
       "right": null,
       "top": null,
       "visibility": null,
       "width": null
      }
     },
     "fc618f6c019f4cd0a11ba74b8ed14826": {
      "model_module": "@jupyter-widgets/controls",
      "model_module_version": "1.5.0",
      "model_name": "HBoxModel",
      "state": {
       "_dom_classes": [],
       "_model_module": "@jupyter-widgets/controls",
       "_model_module_version": "1.5.0",
       "_model_name": "HBoxModel",
       "_view_count": null,
       "_view_module": "@jupyter-widgets/controls",
       "_view_module_version": "1.5.0",
       "_view_name": "HBoxView",
       "box_style": "",
       "children": [
        "IPY_MODEL_43b3c40dbc514a029c83214a4ba86320",
        "IPY_MODEL_ad9f198674154d5786afaf7e0dd84763",
        "IPY_MODEL_ad2cd030858149cb9431cb7e008670f4"
       ],
       "layout": "IPY_MODEL_d602296b2fb5498ab1fa274de626b0ce"
      }
     }
    },
    "version_major": 2,
    "version_minor": 0
   }
  }
 },
 "nbformat": 4,
 "nbformat_minor": 5
}
